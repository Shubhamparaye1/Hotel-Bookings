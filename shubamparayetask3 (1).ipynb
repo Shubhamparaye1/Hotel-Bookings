{
 "cells": [
  {
   "cell_type": "markdown",
   "id": "ff318ce8",
   "metadata": {},
   "source": [
    "Name-Shubham Paraye\n",
    "\n",
    "Email_shubhamparaye5@gmail.com\n",
    "\n",
    "Task 3-Statastical analysis"
   ]
  },
  {
   "cell_type": "code",
   "execution_count": null,
   "id": "bae0ed64",
   "metadata": {},
   "outputs": [],
   "source": []
  },
  {
   "cell_type": "code",
   "execution_count": 2,
   "id": "b5e57d96",
   "metadata": {},
   "outputs": [],
   "source": [
    "import numpy as np\n",
    "import pandas as pd\n",
    "import matplotlib.pyplot as plt\n",
    "import seaborn as sns\n",
    "from sklearn.preprocessing import LabelEncoder,StandardScaler\n",
    "from sklearn.model_selection import train_test_split, cross_val_score,GridSearchCV\n",
    "from sklearn.metrics import accuracy_score, roc_auc_score,roc_curve,confusion_matrix,auc\n",
    "\n",
    "import statsmodels.formula.api as smf\n",
    "\n",
    "from sklearn.tree import DecisionTreeClassifier\n",
    "from sklearn.linear_model import LogisticRegression\n",
    "from sklearn.svm import SVC\n",
    "from sklearn.naive_bayes import GaussianNB\n",
    "from sklearn.ensemble import RandomForestClassifier\n",
    "#from xgboost import XGBClassifier\n",
    "\n",
    "from sklearn.neural_network import MLPClassifier\n",
    "#from xgboost import XGBClassifier\n",
    "from warnings import filterwarnings\n",
    "filterwarnings('ignore')\n",
    "\n",
    "pd.set_option(\"display.max_columns\",30)\n"
   ]
  },
  {
   "cell_type": "code",
   "execution_count": 3,
   "id": "5074fae1",
   "metadata": {},
   "outputs": [
    {
     "data": {
      "text/html": [
       "<div>\n",
       "<style scoped>\n",
       "    .dataframe tbody tr th:only-of-type {\n",
       "        vertical-align: middle;\n",
       "    }\n",
       "\n",
       "    .dataframe tbody tr th {\n",
       "        vertical-align: top;\n",
       "    }\n",
       "\n",
       "    .dataframe thead th {\n",
       "        text-align: right;\n",
       "    }\n",
       "</style>\n",
       "<table border=\"1\" class=\"dataframe\">\n",
       "  <thead>\n",
       "    <tr style=\"text-align: right;\">\n",
       "      <th></th>\n",
       "      <th>Type of Hotel</th>\n",
       "      <th>Year</th>\n",
       "      <th>Month</th>\n",
       "      <th>Reservation Date</th>\n",
       "      <th>Arrival week</th>\n",
       "      <th>Arrival Date</th>\n",
       "      <th>Weekend Stays</th>\n",
       "      <th>Weekday Stays</th>\n",
       "      <th>Meal</th>\n",
       "      <th>Booking Payment</th>\n",
       "      <th>Adults</th>\n",
       "      <th>Children</th>\n",
       "      <th>Kids</th>\n",
       "      <th>Country</th>\n",
       "      <th>Booking Type</th>\n",
       "      <th>Repeated Guest</th>\n",
       "      <th>Prev Cancel</th>\n",
       "      <th>History</th>\n",
       "      <th>Reserved Room</th>\n",
       "      <th>Assigned Room</th>\n",
       "      <th>Booking Changes</th>\n",
       "      <th>Waiting List</th>\n",
       "      <th>Customer</th>\n",
       "      <th>Per Day Charges</th>\n",
       "      <th>Parking at premises</th>\n",
       "      <th>Physical Challenged</th>\n",
       "      <th>Reservation Status</th>\n",
       "      <th>Cancellation</th>\n",
       "      <th>Booking Done</th>\n",
       "    </tr>\n",
       "  </thead>\n",
       "  <tbody>\n",
       "    <tr>\n",
       "      <th>0</th>\n",
       "      <td>Motel</td>\n",
       "      <td>2015</td>\n",
       "      <td>July</td>\n",
       "      <td>03-08-2015</td>\n",
       "      <td>31</td>\n",
       "      <td>28</td>\n",
       "      <td>2</td>\n",
       "      <td>3</td>\n",
       "      <td>Bed &amp; Breakfast</td>\n",
       "      <td>No Deposit</td>\n",
       "      <td>2</td>\n",
       "      <td>0.0</td>\n",
       "      <td>0</td>\n",
       "      <td>PRT</td>\n",
       "      <td>Online TA</td>\n",
       "      <td>0</td>\n",
       "      <td>0</td>\n",
       "      <td>0</td>\n",
       "      <td>A</td>\n",
       "      <td>A</td>\n",
       "      <td>0</td>\n",
       "      <td>0</td>\n",
       "      <td>Contract</td>\n",
       "      <td>132.0</td>\n",
       "      <td>0</td>\n",
       "      <td>2</td>\n",
       "      <td>Check-Out</td>\n",
       "      <td>0</td>\n",
       "      <td>44</td>\n",
       "    </tr>\n",
       "    <tr>\n",
       "      <th>1</th>\n",
       "      <td>Villa</td>\n",
       "      <td>2016</td>\n",
       "      <td>August</td>\n",
       "      <td>30-08-2016</td>\n",
       "      <td>35</td>\n",
       "      <td>25</td>\n",
       "      <td>2</td>\n",
       "      <td>3</td>\n",
       "      <td>Bed &amp; Breakfast</td>\n",
       "      <td>No Deposit</td>\n",
       "      <td>2</td>\n",
       "      <td>0.0</td>\n",
       "      <td>0</td>\n",
       "      <td>ESP</td>\n",
       "      <td>Online TA</td>\n",
       "      <td>0</td>\n",
       "      <td>0</td>\n",
       "      <td>0</td>\n",
       "      <td>A</td>\n",
       "      <td>A</td>\n",
       "      <td>1</td>\n",
       "      <td>0</td>\n",
       "      <td>Transient</td>\n",
       "      <td>150.0</td>\n",
       "      <td>1</td>\n",
       "      <td>1</td>\n",
       "      <td>Check-Out</td>\n",
       "      <td>0</td>\n",
       "      <td>27</td>\n",
       "    </tr>\n",
       "    <tr>\n",
       "      <th>2</th>\n",
       "      <td>Villa</td>\n",
       "      <td>2017</td>\n",
       "      <td>April</td>\n",
       "      <td>23-04-2017</td>\n",
       "      <td>16</td>\n",
       "      <td>21</td>\n",
       "      <td>1</td>\n",
       "      <td>1</td>\n",
       "      <td>Bed &amp; Breakfast</td>\n",
       "      <td>No Deposit</td>\n",
       "      <td>1</td>\n",
       "      <td>0.0</td>\n",
       "      <td>0</td>\n",
       "      <td>FRA</td>\n",
       "      <td>Online TA</td>\n",
       "      <td>0</td>\n",
       "      <td>0</td>\n",
       "      <td>0</td>\n",
       "      <td>A</td>\n",
       "      <td>A</td>\n",
       "      <td>0</td>\n",
       "      <td>0</td>\n",
       "      <td>Transient-Party</td>\n",
       "      <td>44.0</td>\n",
       "      <td>0</td>\n",
       "      <td>1</td>\n",
       "      <td>Check-Out</td>\n",
       "      <td>0</td>\n",
       "      <td>180</td>\n",
       "    </tr>\n",
       "    <tr>\n",
       "      <th>3</th>\n",
       "      <td>Motel</td>\n",
       "      <td>2016</td>\n",
       "      <td>June</td>\n",
       "      <td>29-06-2016</td>\n",
       "      <td>27</td>\n",
       "      <td>27</td>\n",
       "      <td>2</td>\n",
       "      <td>0</td>\n",
       "      <td>Bed &amp; Breakfast</td>\n",
       "      <td>No Deposit</td>\n",
       "      <td>3</td>\n",
       "      <td>0.0</td>\n",
       "      <td>0</td>\n",
       "      <td>AUT</td>\n",
       "      <td>Online TA</td>\n",
       "      <td>0</td>\n",
       "      <td>0</td>\n",
       "      <td>0</td>\n",
       "      <td>D</td>\n",
       "      <td>D</td>\n",
       "      <td>0</td>\n",
       "      <td>0</td>\n",
       "      <td>Transient</td>\n",
       "      <td>151.0</td>\n",
       "      <td>0</td>\n",
       "      <td>4</td>\n",
       "      <td>Check-Out</td>\n",
       "      <td>0</td>\n",
       "      <td>59</td>\n",
       "    </tr>\n",
       "    <tr>\n",
       "      <th>4</th>\n",
       "      <td>Motel</td>\n",
       "      <td>2016</td>\n",
       "      <td>August</td>\n",
       "      <td>22-08-2016</td>\n",
       "      <td>34</td>\n",
       "      <td>20</td>\n",
       "      <td>0</td>\n",
       "      <td>2</td>\n",
       "      <td>Breakfast &amp; Dinner</td>\n",
       "      <td>No Deposit</td>\n",
       "      <td>2</td>\n",
       "      <td>0.0</td>\n",
       "      <td>0</td>\n",
       "      <td>DEU</td>\n",
       "      <td>Offline TA/TO</td>\n",
       "      <td>0</td>\n",
       "      <td>0</td>\n",
       "      <td>0</td>\n",
       "      <td>A</td>\n",
       "      <td>A</td>\n",
       "      <td>0</td>\n",
       "      <td>0</td>\n",
       "      <td>Transient-Party</td>\n",
       "      <td>115.0</td>\n",
       "      <td>0</td>\n",
       "      <td>1</td>\n",
       "      <td>Check-Out</td>\n",
       "      <td>0</td>\n",
       "      <td>313</td>\n",
       "    </tr>\n",
       "  </tbody>\n",
       "</table>\n",
       "</div>"
      ],
      "text/plain": [
       "  Type of Hotel  Year   Month Reservation Date  Arrival week  Arrival Date  \\\n",
       "0         Motel  2015    July       03-08-2015            31            28   \n",
       "1         Villa  2016  August       30-08-2016            35            25   \n",
       "2         Villa  2017   April       23-04-2017            16            21   \n",
       "3         Motel  2016    June       29-06-2016            27            27   \n",
       "4         Motel  2016  August       22-08-2016            34            20   \n",
       "\n",
       "   Weekend Stays  Weekday Stays                Meal Booking Payment  Adults  \\\n",
       "0              2              3     Bed & Breakfast      No Deposit       2   \n",
       "1              2              3     Bed & Breakfast      No Deposit       2   \n",
       "2              1              1     Bed & Breakfast      No Deposit       1   \n",
       "3              2              0     Bed & Breakfast      No Deposit       3   \n",
       "4              0              2  Breakfast & Dinner      No Deposit       2   \n",
       "\n",
       "   Children  Kids Country   Booking Type  Repeated Guest  Prev Cancel  \\\n",
       "0       0.0     0     PRT      Online TA               0            0   \n",
       "1       0.0     0     ESP      Online TA               0            0   \n",
       "2       0.0     0     FRA      Online TA               0            0   \n",
       "3       0.0     0     AUT      Online TA               0            0   \n",
       "4       0.0     0     DEU  Offline TA/TO               0            0   \n",
       "\n",
       "   History Reserved Room Assigned Room  Booking Changes  Waiting List  \\\n",
       "0        0             A             A                0             0   \n",
       "1        0             A             A                1             0   \n",
       "2        0             A             A                0             0   \n",
       "3        0             D             D                0             0   \n",
       "4        0             A             A                0             0   \n",
       "\n",
       "          Customer  Per Day Charges  Parking at premises  Physical Challenged  \\\n",
       "0         Contract            132.0                    0                    2   \n",
       "1        Transient            150.0                    1                    1   \n",
       "2  Transient-Party             44.0                    0                    1   \n",
       "3        Transient            151.0                    0                    4   \n",
       "4  Transient-Party            115.0                    0                    1   \n",
       "\n",
       "  Reservation Status  Cancellation  Booking Done  \n",
       "0          Check-Out             0            44  \n",
       "1          Check-Out             0            27  \n",
       "2          Check-Out             0           180  \n",
       "3          Check-Out             0            59  \n",
       "4          Check-Out             0           313  "
      ]
     },
     "execution_count": 3,
     "metadata": {},
     "output_type": "execute_result"
    }
   ],
   "source": [
    "data=pd.read_csv('Hospitality minds dataset (1).csv')\n",
    "data.head()"
   ]
  },
  {
   "cell_type": "code",
   "execution_count": 4,
   "id": "5e8493aa",
   "metadata": {},
   "outputs": [
    {
     "data": {
      "text/plain": [
       "(90000, 29)"
      ]
     },
     "execution_count": 4,
     "metadata": {},
     "output_type": "execute_result"
    }
   ],
   "source": [
    "data.shape"
   ]
  },
  {
   "cell_type": "code",
   "execution_count": 5,
   "id": "c24ec867",
   "metadata": {},
   "outputs": [
    {
     "data": {
      "text/html": [
       "<div>\n",
       "<style scoped>\n",
       "    .dataframe tbody tr th:only-of-type {\n",
       "        vertical-align: middle;\n",
       "    }\n",
       "\n",
       "    .dataframe tbody tr th {\n",
       "        vertical-align: top;\n",
       "    }\n",
       "\n",
       "    .dataframe thead th {\n",
       "        text-align: right;\n",
       "    }\n",
       "</style>\n",
       "<table border=\"1\" class=\"dataframe\">\n",
       "  <thead>\n",
       "    <tr style=\"text-align: right;\">\n",
       "      <th></th>\n",
       "      <th>Year</th>\n",
       "      <th>Arrival week</th>\n",
       "      <th>Arrival Date</th>\n",
       "      <th>Weekend Stays</th>\n",
       "      <th>Weekday Stays</th>\n",
       "      <th>Adults</th>\n",
       "      <th>Children</th>\n",
       "      <th>Kids</th>\n",
       "      <th>Repeated Guest</th>\n",
       "      <th>Prev Cancel</th>\n",
       "      <th>History</th>\n",
       "      <th>Booking Changes</th>\n",
       "      <th>Waiting List</th>\n",
       "      <th>Per Day Charges</th>\n",
       "      <th>Parking at premises</th>\n",
       "      <th>Physical Challenged</th>\n",
       "      <th>Cancellation</th>\n",
       "      <th>Booking Done</th>\n",
       "    </tr>\n",
       "  </thead>\n",
       "  <tbody>\n",
       "    <tr>\n",
       "      <th>count</th>\n",
       "      <td>90000.000000</td>\n",
       "      <td>90000.000000</td>\n",
       "      <td>90000.000000</td>\n",
       "      <td>90000.000000</td>\n",
       "      <td>90000.000000</td>\n",
       "      <td>90000.000000</td>\n",
       "      <td>89998.000000</td>\n",
       "      <td>90000.000000</td>\n",
       "      <td>90000.000000</td>\n",
       "      <td>90000.000000</td>\n",
       "      <td>90000.000000</td>\n",
       "      <td>90000.000000</td>\n",
       "      <td>90000.000000</td>\n",
       "      <td>90000.000000</td>\n",
       "      <td>90000.000000</td>\n",
       "      <td>90000.000000</td>\n",
       "      <td>90000.000000</td>\n",
       "      <td>90000.000000</td>\n",
       "    </tr>\n",
       "    <tr>\n",
       "      <th>mean</th>\n",
       "      <td>2016.168711</td>\n",
       "      <td>27.122456</td>\n",
       "      <td>16.408356</td>\n",
       "      <td>0.908433</td>\n",
       "      <td>2.526967</td>\n",
       "      <td>1.857967</td>\n",
       "      <td>0.104513</td>\n",
       "      <td>0.009667</td>\n",
       "      <td>0.031300</td>\n",
       "      <td>0.058300</td>\n",
       "      <td>0.138289</td>\n",
       "      <td>0.228178</td>\n",
       "      <td>1.306944</td>\n",
       "      <td>101.745815</td>\n",
       "      <td>0.063956</td>\n",
       "      <td>0.623367</td>\n",
       "      <td>0.373722</td>\n",
       "      <td>107.271256</td>\n",
       "    </tr>\n",
       "    <tr>\n",
       "      <th>std</th>\n",
       "      <td>0.708918</td>\n",
       "      <td>13.589391</td>\n",
       "      <td>9.083017</td>\n",
       "      <td>1.002316</td>\n",
       "      <td>1.851936</td>\n",
       "      <td>0.525628</td>\n",
       "      <td>0.399714</td>\n",
       "      <td>0.099309</td>\n",
       "      <td>0.174128</td>\n",
       "      <td>0.430933</td>\n",
       "      <td>1.456766</td>\n",
       "      <td>0.658184</td>\n",
       "      <td>13.365843</td>\n",
       "      <td>47.853487</td>\n",
       "      <td>0.245265</td>\n",
       "      <td>0.817632</td>\n",
       "      <td>0.483794</td>\n",
       "      <td>111.192091</td>\n",
       "    </tr>\n",
       "    <tr>\n",
       "      <th>min</th>\n",
       "      <td>2015.000000</td>\n",
       "      <td>1.000000</td>\n",
       "      <td>1.000000</td>\n",
       "      <td>0.000000</td>\n",
       "      <td>0.000000</td>\n",
       "      <td>0.000000</td>\n",
       "      <td>0.000000</td>\n",
       "      <td>0.000000</td>\n",
       "      <td>0.000000</td>\n",
       "      <td>0.000000</td>\n",
       "      <td>0.000000</td>\n",
       "      <td>0.000000</td>\n",
       "      <td>0.000000</td>\n",
       "      <td>0.000000</td>\n",
       "      <td>0.000000</td>\n",
       "      <td>0.000000</td>\n",
       "      <td>0.000000</td>\n",
       "      <td>0.000000</td>\n",
       "    </tr>\n",
       "    <tr>\n",
       "      <th>25%</th>\n",
       "      <td>2016.000000</td>\n",
       "      <td>16.000000</td>\n",
       "      <td>8.000000</td>\n",
       "      <td>0.000000</td>\n",
       "      <td>1.000000</td>\n",
       "      <td>2.000000</td>\n",
       "      <td>0.000000</td>\n",
       "      <td>0.000000</td>\n",
       "      <td>0.000000</td>\n",
       "      <td>0.000000</td>\n",
       "      <td>0.000000</td>\n",
       "      <td>0.000000</td>\n",
       "      <td>0.000000</td>\n",
       "      <td>68.000000</td>\n",
       "      <td>0.000000</td>\n",
       "      <td>0.000000</td>\n",
       "      <td>0.000000</td>\n",
       "      <td>19.000000</td>\n",
       "    </tr>\n",
       "    <tr>\n",
       "      <th>50%</th>\n",
       "      <td>2016.000000</td>\n",
       "      <td>27.000000</td>\n",
       "      <td>17.000000</td>\n",
       "      <td>1.000000</td>\n",
       "      <td>2.000000</td>\n",
       "      <td>2.000000</td>\n",
       "      <td>0.000000</td>\n",
       "      <td>0.000000</td>\n",
       "      <td>0.000000</td>\n",
       "      <td>0.000000</td>\n",
       "      <td>0.000000</td>\n",
       "      <td>0.000000</td>\n",
       "      <td>0.000000</td>\n",
       "      <td>94.000000</td>\n",
       "      <td>0.000000</td>\n",
       "      <td>0.000000</td>\n",
       "      <td>0.000000</td>\n",
       "      <td>71.000000</td>\n",
       "    </tr>\n",
       "    <tr>\n",
       "      <th>75%</th>\n",
       "      <td>2017.000000</td>\n",
       "      <td>38.000000</td>\n",
       "      <td>25.000000</td>\n",
       "      <td>2.000000</td>\n",
       "      <td>3.000000</td>\n",
       "      <td>2.000000</td>\n",
       "      <td>0.000000</td>\n",
       "      <td>0.000000</td>\n",
       "      <td>0.000000</td>\n",
       "      <td>0.000000</td>\n",
       "      <td>0.000000</td>\n",
       "      <td>0.000000</td>\n",
       "      <td>0.000000</td>\n",
       "      <td>126.000000</td>\n",
       "      <td>0.000000</td>\n",
       "      <td>1.000000</td>\n",
       "      <td>1.000000</td>\n",
       "      <td>163.000000</td>\n",
       "    </tr>\n",
       "    <tr>\n",
       "      <th>max</th>\n",
       "      <td>2017.000000</td>\n",
       "      <td>53.000000</td>\n",
       "      <td>31.000000</td>\n",
       "      <td>14.000000</td>\n",
       "      <td>35.000000</td>\n",
       "      <td>26.000000</td>\n",
       "      <td>3.000000</td>\n",
       "      <td>2.000000</td>\n",
       "      <td>1.000000</td>\n",
       "      <td>26.000000</td>\n",
       "      <td>66.000000</td>\n",
       "      <td>16.000000</td>\n",
       "      <td>391.000000</td>\n",
       "      <td>437.000000</td>\n",
       "      <td>2.000000</td>\n",
       "      <td>5.000000</td>\n",
       "      <td>1.000000</td>\n",
       "      <td>629.000000</td>\n",
       "    </tr>\n",
       "  </tbody>\n",
       "</table>\n",
       "</div>"
      ],
      "text/plain": [
       "               Year  Arrival week  Arrival Date  Weekend Stays  Weekday Stays  \\\n",
       "count  90000.000000  90000.000000  90000.000000   90000.000000   90000.000000   \n",
       "mean    2016.168711     27.122456     16.408356       0.908433       2.526967   \n",
       "std        0.708918     13.589391      9.083017       1.002316       1.851936   \n",
       "min     2015.000000      1.000000      1.000000       0.000000       0.000000   \n",
       "25%     2016.000000     16.000000      8.000000       0.000000       1.000000   \n",
       "50%     2016.000000     27.000000     17.000000       1.000000       2.000000   \n",
       "75%     2017.000000     38.000000     25.000000       2.000000       3.000000   \n",
       "max     2017.000000     53.000000     31.000000      14.000000      35.000000   \n",
       "\n",
       "             Adults      Children          Kids  Repeated Guest   Prev Cancel  \\\n",
       "count  90000.000000  89998.000000  90000.000000    90000.000000  90000.000000   \n",
       "mean       1.857967      0.104513      0.009667        0.031300      0.058300   \n",
       "std        0.525628      0.399714      0.099309        0.174128      0.430933   \n",
       "min        0.000000      0.000000      0.000000        0.000000      0.000000   \n",
       "25%        2.000000      0.000000      0.000000        0.000000      0.000000   \n",
       "50%        2.000000      0.000000      0.000000        0.000000      0.000000   \n",
       "75%        2.000000      0.000000      0.000000        0.000000      0.000000   \n",
       "max       26.000000      3.000000      2.000000        1.000000     26.000000   \n",
       "\n",
       "            History  Booking Changes  Waiting List  Per Day Charges  \\\n",
       "count  90000.000000     90000.000000  90000.000000     90000.000000   \n",
       "mean       0.138289         0.228178      1.306944       101.745815   \n",
       "std        1.456766         0.658184     13.365843        47.853487   \n",
       "min        0.000000         0.000000      0.000000         0.000000   \n",
       "25%        0.000000         0.000000      0.000000        68.000000   \n",
       "50%        0.000000         0.000000      0.000000        94.000000   \n",
       "75%        0.000000         0.000000      0.000000       126.000000   \n",
       "max       66.000000        16.000000    391.000000       437.000000   \n",
       "\n",
       "       Parking at premises  Physical Challenged  Cancellation  Booking Done  \n",
       "count         90000.000000         90000.000000  90000.000000  90000.000000  \n",
       "mean              0.063956             0.623367      0.373722    107.271256  \n",
       "std               0.245265             0.817632      0.483794    111.192091  \n",
       "min               0.000000             0.000000      0.000000      0.000000  \n",
       "25%               0.000000             0.000000      0.000000     19.000000  \n",
       "50%               0.000000             0.000000      0.000000     71.000000  \n",
       "75%               0.000000             1.000000      1.000000    163.000000  \n",
       "max               2.000000             5.000000      1.000000    629.000000  "
      ]
     },
     "execution_count": 5,
     "metadata": {},
     "output_type": "execute_result"
    }
   ],
   "source": [
    "data.describe()"
   ]
  },
  {
   "cell_type": "code",
   "execution_count": 6,
   "id": "2a5a2265",
   "metadata": {
    "scrolled": true
   },
   "outputs": [
    {
     "name": "stdout",
     "output_type": "stream",
     "text": [
      "<class 'pandas.core.frame.DataFrame'>\n",
      "RangeIndex: 90000 entries, 0 to 89999\n",
      "Data columns (total 29 columns):\n",
      " #   Column               Non-Null Count  Dtype  \n",
      "---  ------               --------------  -----  \n",
      " 0   Type of Hotel        90000 non-null  object \n",
      " 1   Year                 90000 non-null  int64  \n",
      " 2   Month                90000 non-null  object \n",
      " 3   Reservation Date     90000 non-null  object \n",
      " 4   Arrival week         90000 non-null  int64  \n",
      " 5   Arrival Date         90000 non-null  int64  \n",
      " 6   Weekend Stays        90000 non-null  int64  \n",
      " 7   Weekday Stays        90000 non-null  int64  \n",
      " 8   Meal                 90000 non-null  object \n",
      " 9   Booking Payment      90000 non-null  object \n",
      " 10  Adults               90000 non-null  int64  \n",
      " 11  Children             89998 non-null  float64\n",
      " 12  Kids                 90000 non-null  int64  \n",
      " 13  Country              89629 non-null  object \n",
      " 14  Booking Type         90000 non-null  object \n",
      " 15  Repeated Guest       90000 non-null  int64  \n",
      " 16  Prev Cancel          90000 non-null  int64  \n",
      " 17  History              90000 non-null  int64  \n",
      " 18  Reserved Room        90000 non-null  object \n",
      " 19  Assigned Room        90000 non-null  object \n",
      " 20  Booking Changes      90000 non-null  int64  \n",
      " 21  Waiting List         90000 non-null  int64  \n",
      " 22  Customer             90000 non-null  object \n",
      " 23  Per Day Charges      90000 non-null  float64\n",
      " 24  Parking at premises  90000 non-null  int64  \n",
      " 25  Physical Challenged  90000 non-null  int64  \n",
      " 26  Reservation Status   90000 non-null  object \n",
      " 27  Cancellation         90000 non-null  int64  \n",
      " 28  Booking Done         90000 non-null  int64  \n",
      "dtypes: float64(2), int64(16), object(11)\n",
      "memory usage: 19.9+ MB\n"
     ]
    }
   ],
   "source": [
    "data.info()"
   ]
  },
  {
   "cell_type": "markdown",
   "id": "ea99a0ee",
   "metadata": {},
   "source": [
    "# Visualization\n"
   ]
  },
  {
   "cell_type": "code",
   "execution_count": 7,
   "id": "6a5b1145",
   "metadata": {},
   "outputs": [
    {
     "data": {
      "image/png": "[encoded data removed]",
      "text/plain": [
       "<Figure size 504x360 with 1 Axes>"
      ]
     },
     "metadata": {
      "needs_background": "light"
     },
     "output_type": "display_data"
    }
   ],
   "source": [
    "plt.figure(figsize=(7,5))\n",
    "sns.set(style='darkgrid')\n",
    "plt.title('Cancel or not',fontdict = {'fontsize': 20})\n",
    "ax=sns.countplot(x='Cancellation',hue='Repeated Guest',data =data)"
   ]
  },
  {
   "cell_type": "markdown",
   "id": "acb50424",
   "metadata": {},
   "source": [
    "There is no surprise that repeated guests do not cancel their reservations. Of course there are some exceptions. Also most of the customers are not repeated guests."
   ]
  },
  {
   "cell_type": "markdown",
   "id": "cc9ecc39",
   "metadata": {},
   "source": [
    "# Boxplot Distribution of Nights Spent at Hotels by Market Segment and Hotel Type"
   ]
  },
  {
   "cell_type": "code",
   "execution_count": 8,
   "id": "8f060a03",
   "metadata": {},
   "outputs": [
    {
     "data": {
      "text/plain": [
       "<AxesSubplot:xlabel='Booking Type', ylabel='Weekday Stays'>"
      ]
     },
     "execution_count": 8,
     "metadata": {},
     "output_type": "execute_result"
    },
    {
     "data": {
      "image/png": "[encoded data removed]",
      "text/plain": [
       "<Figure size 1080x720 with 1 Axes>"
      ]
     },
     "metadata": {},
     "output_type": "display_data"
    }
   ],
   "source": [
    "plt.figure(figsize=(15,10))\n",
    "sns.boxplot(x='Booking Type',y='Weekday Stays',data=data,hue='Type of Hotel',palette='Set1')"
   ]
  },
  {
   "cell_type": "code",
   "execution_count": 9,
   "id": "1834eaae",
   "metadata": {},
   "outputs": [
    {
     "data": {
      "image/png": "[encoded data removed]",
      "text/plain": [
       "<Figure size 1080x720 with 1 Axes>"
      ]
     },
     "metadata": {},
     "output_type": "display_data"
    }
   ],
   "source": [
    "plt.figure(figsize=(15,10))\n",
    "sns.boxplot(x='Booking Type',y='Weekend Stays',hue='Type of Hotel',data=data,palette='Set1');"
   ]
  },
  {
   "cell_type": "markdown",
   "id": "74c0d94c",
   "metadata": {},
   "source": [
    "It can be seen that most of the groups are normal distributed, some of them have high skewness. Looking at the distribution, most people do not seem to prefer to stay at the motel for more than 1 week. But it seems normal to stay in villa  for up to 12-13 days.It is also observed that people book through aviation more likely to stay in Villa.\n",
    "Apart from that weekday and weekend stay have averagely equal praportion."
   ]
  },
  {
   "cell_type": "markdown",
   "id": "f458c6c3",
   "metadata": {},
   "source": [
    "# Countplot Distribution of booking type"
   ]
  },
  {
   "cell_type": "code",
   "execution_count": 10,
   "id": "302ecdbe",
   "metadata": {},
   "outputs": [
    {
     "data": {
      "text/plain": [
       "<AxesSubplot:title={'center':'Countplot distribution of Booking type by Booking Payment'}, xlabel='Booking Type', ylabel='count'>"
      ]
     },
     "execution_count": 10,
     "metadata": {},
     "output_type": "execute_result"
    },
    {
     "data": {
      "image/png": "[encoded data removed]",
      "text/plain": [
       "<Figure size 936x720 with 1 Axes>"
      ]
     },
     "metadata": {},
     "output_type": "display_data"
    }
   ],
   "source": [
    "plt.figure(figsize=(13,10))\n",
    "sns.set(style='darkgrid')\n",
    "plt.title('Countplot distribution of Booking type by Booking Payment',fontdict = {'fontsize':20})\n",
    "sns.countplot(x='Booking Type',hue='Booking Payment',data=data)"
   ]
  },
  {
   "cell_type": "code",
   "execution_count": 11,
   "id": "3e385fd7",
   "metadata": {},
   "outputs": [
    {
     "data": {
      "text/plain": [
       "<AxesSubplot:title={'center':'Countplot disrtibution of booking type bu cancellation'}, xlabel='Booking Type', ylabel='count'>"
      ]
     },
     "execution_count": 11,
     "metadata": {},
     "output_type": "execute_result"
    },
    {
     "data": {
      "image/png": "[encoded data removed]",
      "text/plain": [
       "<Figure size 864x720 with 1 Axes>"
      ]
     },
     "metadata": {},
     "output_type": "display_data"
    }
   ],
   "source": [
    "plt.figure(figsize=(12,10))\n",
    "sns.set(style=\"darkgrid\")\n",
    "plt.title(\"Countplot disrtibution of booking type bu cancellation\",fontdict={\"fontsize\":20})\n",
    "sns.countplot(x='Booking Type',hue='Cancellation',data=data)"
   ]
  },
  {
   "cell_type": "markdown",
   "id": "51b36551",
   "metadata": {},
   "source": [
    "Looking at Offline TA/TO and Groups, the situations where the deposit was received were only in the scenarios where the groups came. It is quite logical to apply a deposit for a large number of customers who will fill important amount of the hotel capacity.\n",
    "\n",
    "As a first thought, I expected the cancellation rate in the booking type where a deposit is applied to be lower than the other segments where no deposit applied. But when we look at the cancellations according to the segments in the other visualization, it seems that this is not the case.\n",
    "\n",
    "Groups segment has cancellation rate more than 50%.\n",
    "Offline TA/TO (Travel Agents/Tour Operators) and Online TA has cancellation rate more than 33%.\n",
    "Direct segment has cancellation rate less than 20%.\n"
   ]
  },
  {
   "cell_type": "markdown",
   "id": "2e6f1934",
   "metadata": {},
   "source": [
    "# Density Curve of waiting time by Cancellation"
   ]
  },
  {
   "cell_type": "code",
   "execution_count": 12,
   "id": "d95eb727",
   "metadata": {
    "scrolled": true
   },
   "outputs": [
    {
     "data": {
      "image/png": "[encoded data removed]",
      "text/plain": [
       "<Figure size 506.55x432 with 1 Axes>"
      ]
     },
     "metadata": {},
     "output_type": "display_data"
    }
   ],
   "source": [
    "(sns.FacetGrid(data,hue='Cancellation',\n",
    "              height=6,\n",
    "              xlim=(0,500))\n",
    " .map(sns.kdeplot, 'Waiting List', shade = True)\n",
    " .add_legend());"
   ]
  },
  {
   "cell_type": "markdown",
   "id": "43c7e85e",
   "metadata": {},
   "source": [
    "# Monthly Cancellations and Customers by Hotel Types\n"
   ]
  },
  {
   "cell_type": "code",
   "execution_count": 13,
   "id": "b6a8d9f1",
   "metadata": {},
   "outputs": [
    {
     "data": {
      "image/png": "[encoded data removed]",
      "text/plain": [
       "<Figure size 936x576 with 1 Axes>"
      ]
     },
     "metadata": {},
     "output_type": "display_data"
    }
   ],
   "source": [
    "plt.figure(figsize=(13,8))\n",
    "sns.set(style='darkgrid')\n",
    "plt.title(\"Total customer-Monthly\",fontdict={'fontsize': 20})\n",
    "ax=sns.countplot(x='Month',hue='Type of Hotel',data=data)"
   ]
  },
  {
   "cell_type": "code",
   "execution_count": 14,
   "id": "125a6fae",
   "metadata": {},
   "outputs": [
    {
     "data": {
      "image/png": "[encoded data removed]",
      "text/plain": [
       "<Figure size 1080x720 with 1 Axes>"
      ]
     },
     "metadata": {},
     "output_type": "display_data"
    }
   ],
   "source": [
    "plt.figure(figsize=(15,10))\n",
    "sns.barplot(x='Month',y=\"Cancellation\",data=data);"
   ]
  },
  {
   "cell_type": "code",
   "execution_count": 15,
   "id": "eef27c22",
   "metadata": {},
   "outputs": [
    {
     "data": {
      "text/plain": [
       "<AxesSubplot:xlabel='Month', ylabel='Cancellation'>"
      ]
     },
     "execution_count": 15,
     "metadata": {},
     "output_type": "execute_result"
    },
    {
     "data": {
      "image/png": "[encoded data removed]",
      "text/plain": [
       "<Figure size 936x576 with 1 Axes>"
      ]
     },
     "metadata": {},
     "output_type": "display_data"
    }
   ],
   "source": [
    "plt.figure(figsize=(13,8))\n",
    "sns.barplot(x='Month',y=\"Cancellation\",data=data,hue='Type of Hotel')"
   ]
  },
  {
   "cell_type": "markdown",
   "id": "3ba07901",
   "metadata": {},
   "source": [
    "Looking at the first graph, it can be seen that the motel have more customers in all months. Considering proportionally, resort hotels seem to be a little closer to Motel in summer.\n",
    "\n",
    "An important interpretation can be made by examining three graphics together. Fewer customers come in the winter months, so when we look at the cancellation rates, it is quite normal that it appears less in the winter months. The point to be noted on these months is that the cancellation rates of motel are almost equal to other months even in winter. The fact that the total cancellation rates of the winter months are low is that the cancellation rates of the villas are low in these months. In short, the possibility of cancellation of villas in winter is very low. This information can be a very important factor when predicting 'is_canceled'."
   ]
  },
  {
   "cell_type": "markdown",
   "id": "1cb753e1",
   "metadata": {},
   "source": [
    "# Preprocessing\n"
   ]
  },
  {
   "cell_type": "markdown",
   "id": "a0440954",
   "metadata": {},
   "source": [
    " Missing Values, Feature Engineering and Standardization)\n"
   ]
  },
  {
   "cell_type": "code",
   "execution_count": 16,
   "id": "6ef867ff",
   "metadata": {},
   "outputs": [
    {
     "name": "stdout",
     "output_type": "stream",
     "text": [
      "# NaN in each column: \n",
      "Type of Hotel            0\n",
      "Year                     0\n",
      "Month                    0\n",
      "Reservation Date         0\n",
      "Arrival week             0\n",
      "Arrival Date             0\n",
      "Weekend Stays            0\n",
      "Weekday Stays            0\n",
      "Meal                     0\n",
      "Booking Payment          0\n",
      "Adults                   0\n",
      "Children                 2\n",
      "Kids                     0\n",
      "Country                371\n",
      "Booking Type             0\n",
      "Repeated Guest           0\n",
      "Prev Cancel              0\n",
      "History                  0\n",
      "Reserved Room            0\n",
      "Assigned Room            0\n",
      "Booking Changes          0\n",
      "Waiting List             0\n",
      "Customer                 0\n",
      "Per Day Charges          0\n",
      "Parking at premises      0\n",
      "Physical Challenged      0\n",
      "Reservation Status       0\n",
      "Cancellation             0\n",
      "Booking Done             0\n",
      "dtype: int64\n"
     ]
    }
   ],
   "source": [
    "print(\"# NaN in each column: \", data.isna().sum(), sep='\\n')"
   ]
  },
  {
   "cell_type": "code",
   "execution_count": 17,
   "id": "95794148",
   "metadata": {},
   "outputs": [
    {
     "name": "stdout",
     "output_type": "stream",
     "text": [
      "Missing value ratios:\n",
      "Children: 0.0022222222222222222\n",
      "Country: 0.41222222222222227\n"
     ]
    }
   ],
   "source": [
    "def perc_mv(x,y):\n",
    "    perc = y.isna().sum()/ len(x) * 100\n",
    "    return perc\n",
    "\n",
    "print('Missing value ratios:\\nChildren: {}\\nCountry: {}'.format(perc_mv(data, data['Children']),\n",
    "                                                                                   perc_mv(data,data['Country'])))"
   ]
  },
  {
   "cell_type": "code",
   "execution_count": 18,
   "id": "d0d27927",
   "metadata": {},
   "outputs": [],
   "source": [
    "data['Children']=data['Children'].fillna(0)"
   ]
  },
  {
   "cell_type": "markdown",
   "id": "80b1a39b",
   "metadata": {},
   "source": [
    "# Handling Features"
   ]
  },
  {
   "cell_type": "markdown",
   "id": "93ccaa39",
   "metadata": {},
   "source": [
    "We should check the features to create some more meaningful variables and reduce the number of features if it is possible."
   ]
  },
  {
   "cell_type": "code",
   "execution_count": 19,
   "id": "7bb086eb",
   "metadata": {},
   "outputs": [
    {
     "data": {
      "text/plain": [
       "Type of Hotel           object\n",
       "Year                     int64\n",
       "Month                   object\n",
       "Reservation Date        object\n",
       "Arrival week             int64\n",
       "Arrival Date             int64\n",
       "Weekend Stays            int64\n",
       "Weekday Stays            int64\n",
       "Meal                    object\n",
       "Booking Payment         object\n",
       "Adults                   int64\n",
       "Children               float64\n",
       "Kids                     int64\n",
       "Country                 object\n",
       "Booking Type            object\n",
       "Repeated Guest           int64\n",
       "Prev Cancel              int64\n",
       "History                  int64\n",
       "Reserved Room           object\n",
       "Assigned Room           object\n",
       "Booking Changes          int64\n",
       "Waiting List             int64\n",
       "Customer                object\n",
       "Per Day Charges        float64\n",
       "Parking at premises      int64\n",
       "Physical Challenged      int64\n",
       "Reservation Status      object\n",
       "Cancellation             int64\n",
       "Booking Done             int64\n",
       "dtype: object"
      ]
     },
     "execution_count": 19,
     "metadata": {},
     "output_type": "execute_result"
    }
   ],
   "source": [
    "data.dtypes"
   ]
  },
  {
   "cell_type": "code",
   "execution_count": 20,
   "id": "d533eb79",
   "metadata": {},
   "outputs": [],
   "source": [
    "#I wanted to label them manually. I will do the rest with get.dummies or label_encoder.\n",
    "data['Type of Hotel']=data['Type of Hotel'].map({\"Motel\":0, \"Villa\":1})\n"
   ]
  },
  {
   "cell_type": "code",
   "execution_count": 21,
   "id": "8df9dcea",
   "metadata": {},
   "outputs": [],
   "source": [
    "data['Month']=data['Month'].map({'January':1, 'February': 2, 'March':3, 'April':4, 'May':5, 'June':6, 'July':7,'August':8, 'September':9, 'October':10, \n",
    "                                 'November':11, 'December':12})"
   ]
  },
  {
   "cell_type": "code",
   "execution_count": 22,
   "id": "b64fa4ac",
   "metadata": {},
   "outputs": [],
   "source": [
    "def family(data):\n",
    "    if((data['Adults']>0) & (data['Children']>0)):\n",
    "        val =1\n",
    "    elif ((data['Adults']>0) & (data['Kids']>0)):\n",
    "        val=1\n",
    "        \n",
    "    else:\n",
    "        val=0\n",
    "    return val\n",
    "\n",
    "def deposit(data):\n",
    "    if((data['Booking Payment']=='No Deposit')|(data['Booking Payment']=='Refundable')):\n",
    "        return 0\n",
    "    else:\n",
    "        return 1"
   ]
  },
  {
   "cell_type": "code",
   "execution_count": 23,
   "id": "12ca9fbe",
   "metadata": {},
   "outputs": [],
   "source": [
    "def feature(data):\n",
    "    data['is_family']=data.apply(family,axis=1)\n",
    "    data['total_Customer']=data['Adults']+data['Children']+data['Kids']\n",
    "    data['Booking_given']=data.apply(deposit,axis=1)\n",
    "    data[\"total_nights\"]=data[\"Weekend Stays\"]+ data[\"Weekday Stays\"]\n",
    "    return data\n",
    "\n",
    "data=feature(data)"
   ]
  },
  {
   "cell_type": "code",
   "execution_count": 24,
   "id": "6e154771",
   "metadata": {},
   "outputs": [],
   "source": [
    "data = data.drop(columns = ['Adults', 'Kids', 'Children', 'Booking Payment', 'Reservation Date'])"
   ]
  },
  {
   "cell_type": "code",
   "execution_count": 25,
   "id": "382e193f",
   "metadata": {
    "scrolled": true
   },
   "outputs": [
    {
     "data": {
      "text/plain": [
       "Index(['Type of Hotel', 'Year', 'Month', 'Arrival week', 'Arrival Date',\n",
       "       'Weekend Stays', 'Weekday Stays', 'Meal', 'Country', 'Booking Type',\n",
       "       'Repeated Guest', 'Prev Cancel', 'History', 'Reserved Room',\n",
       "       'Assigned Room', 'Booking Changes', 'Waiting List', 'Customer',\n",
       "       'Per Day Charges', 'Parking at premises', 'Physical Challenged',\n",
       "       'Reservation Status', 'Cancellation', 'Booking Done', 'is_family',\n",
       "       'total_Customer', 'Booking_given', 'total_nights'],\n",
       "      dtype='object')"
      ]
     },
     "execution_count": 25,
     "metadata": {},
     "output_type": "execute_result"
    }
   ],
   "source": [
    "data.columns"
   ]
  },
  {
   "cell_type": "code",
   "execution_count": 26,
   "id": "c27d017a",
   "metadata": {},
   "outputs": [
    {
     "data": {
      "text/plain": [
       "Type of Hotel            int64\n",
       "Year                     int64\n",
       "Month                    int64\n",
       "Arrival week             int64\n",
       "Arrival Date             int64\n",
       "Weekend Stays            int64\n",
       "Weekday Stays            int64\n",
       "Meal                    object\n",
       "Country                 object\n",
       "Booking Type            object\n",
       "Repeated Guest           int64\n",
       "Prev Cancel              int64\n",
       "History                  int64\n",
       "Reserved Room           object\n",
       "Assigned Room           object\n",
       "Booking Changes          int64\n",
       "Waiting List             int64\n",
       "Customer                object\n",
       "Per Day Charges        float64\n",
       "Parking at premises      int64\n",
       "Physical Challenged      int64\n",
       "Reservation Status      object\n",
       "Cancellation             int64\n",
       "Booking Done             int64\n",
       "is_family                int64\n",
       "total_Customer         float64\n",
       "Booking_given            int64\n",
       "total_nights             int64\n",
       "dtype: object"
      ]
     },
     "execution_count": 26,
     "metadata": {},
     "output_type": "execute_result"
    }
   ],
   "source": [
    "data.dtypes"
   ]
  },
  {
   "cell_type": "code",
   "execution_count": 27,
   "id": "b75972f9",
   "metadata": {},
   "outputs": [],
   "source": [
    "cor_data=data.copy()"
   ]
  },
  {
   "cell_type": "code",
   "execution_count": 28,
   "id": "e1cbb1eb",
   "metadata": {},
   "outputs": [],
   "source": [
    "le = LabelEncoder()"
   ]
  },
  {
   "cell_type": "code",
   "execution_count": 29,
   "id": "2196982a",
   "metadata": {},
   "outputs": [],
   "source": [
    "data['Meal']=le.fit_transform(data['Meal'])\n",
    "data['Booking Type']=le.fit_transform(data['Booking Type'])\n",
    "data['Reserved Room']=le.fit_transform(data['Reserved Room'])\n",
    "data['Assigned Room']=le.fit_transform(data['Assigned Room'])\n",
    "data['Customer']=le.fit_transform(data['Customer'])\n",
    "data['Reservation Status']=le.fit_transform(data['Reservation Status'])\n"
   ]
  },
  {
   "cell_type": "code",
   "execution_count": 30,
   "id": "225de68a",
   "metadata": {},
   "outputs": [
    {
     "data": {
      "text/html": [
       "<div>\n",
       "<style scoped>\n",
       "    .dataframe tbody tr th:only-of-type {\n",
       "        vertical-align: middle;\n",
       "    }\n",
       "\n",
       "    .dataframe tbody tr th {\n",
       "        vertical-align: top;\n",
       "    }\n",
       "\n",
       "    .dataframe thead th {\n",
       "        text-align: right;\n",
       "    }\n",
       "</style>\n",
       "<table border=\"1\" class=\"dataframe\">\n",
       "  <thead>\n",
       "    <tr style=\"text-align: right;\">\n",
       "      <th></th>\n",
       "      <th>Type of Hotel</th>\n",
       "      <th>Year</th>\n",
       "      <th>Month</th>\n",
       "      <th>Arrival week</th>\n",
       "      <th>Arrival Date</th>\n",
       "      <th>Weekend Stays</th>\n",
       "      <th>Weekday Stays</th>\n",
       "      <th>Repeated Guest</th>\n",
       "      <th>Prev Cancel</th>\n",
       "      <th>History</th>\n",
       "      <th>Booking Changes</th>\n",
       "      <th>Waiting List</th>\n",
       "      <th>Per Day Charges</th>\n",
       "      <th>Parking at premises</th>\n",
       "      <th>Physical Challenged</th>\n",
       "      <th>Cancellation</th>\n",
       "      <th>Booking Done</th>\n",
       "      <th>is_family</th>\n",
       "      <th>total_Customer</th>\n",
       "      <th>Booking_given</th>\n",
       "      <th>total_nights</th>\n",
       "    </tr>\n",
       "  </thead>\n",
       "  <tbody>\n",
       "    <tr>\n",
       "      <th>Type of Hotel</th>\n",
       "      <td>1.000000</td>\n",
       "      <td>-0.033400</td>\n",
       "      <td>-0.000548</td>\n",
       "      <td>0.000267</td>\n",
       "      <td>-0.002426</td>\n",
       "      <td>0.199440</td>\n",
       "      <td>0.233150</td>\n",
       "      <td>0.056538</td>\n",
       "      <td>-0.032038</td>\n",
       "      <td>0.010500</td>\n",
       "      <td>0.082049</td>\n",
       "      <td>-0.056652</td>\n",
       "      <td>-0.087109</td>\n",
       "      <td>0.215674</td>\n",
       "      <td>0.046334</td>\n",
       "      <td>-0.116331</td>\n",
       "      <td>-0.075719</td>\n",
       "      <td>0.056784</td>\n",
       "      <td>0.025080</td>\n",
       "      <td>-0.167709</td>\n",
       "      <td>0.253885</td>\n",
       "    </tr>\n",
       "    <tr>\n",
       "      <th>Year</th>\n",
       "      <td>-0.033400</td>\n",
       "      <td>1.000000</td>\n",
       "      <td>-0.526881</td>\n",
       "      <td>-0.543697</td>\n",
       "      <td>-0.031969</td>\n",
       "      <td>0.017253</td>\n",
       "      <td>0.040925</td>\n",
       "      <td>0.008258</td>\n",
       "      <td>-0.149275</td>\n",
       "      <td>0.031527</td>\n",
       "      <td>0.033918</td>\n",
       "      <td>-0.029101</td>\n",
       "      <td>0.198198</td>\n",
       "      <td>-0.026974</td>\n",
       "      <td>0.103664</td>\n",
       "      <td>0.029818</td>\n",
       "      <td>0.062067</td>\n",
       "      <td>0.046018</td>\n",
       "      <td>0.062209</td>\n",
       "      <td>-0.055485</td>\n",
       "      <td>0.037412</td>\n",
       "    </tr>\n",
       "    <tr>\n",
       "      <th>Month</th>\n",
       "      <td>-0.000548</td>\n",
       "      <td>-0.526881</td>\n",
       "      <td>1.000000</td>\n",
       "      <td>0.993953</td>\n",
       "      <td>0.000522</td>\n",
       "      <td>0.016435</td>\n",
       "      <td>0.013650</td>\n",
       "      <td>-0.035511</td>\n",
       "      <td>0.056416</td>\n",
       "      <td>-0.028455</td>\n",
       "      <td>-0.000110</td>\n",
       "      <td>0.015067</td>\n",
       "      <td>0.077464</td>\n",
       "      <td>-0.001433</td>\n",
       "      <td>0.019180</td>\n",
       "      <td>0.008623</td>\n",
       "      <td>0.106786</td>\n",
       "      <td>0.015071</td>\n",
       "      <td>0.031083</td>\n",
       "      <td>0.018976</td>\n",
       "      <td>0.016781</td>\n",
       "    </tr>\n",
       "    <tr>\n",
       "      <th>Arrival week</th>\n",
       "      <td>0.000267</td>\n",
       "      <td>-0.543697</td>\n",
       "      <td>0.993953</td>\n",
       "      <td>1.000000</td>\n",
       "      <td>0.086547</td>\n",
       "      <td>0.018383</td>\n",
       "      <td>0.010980</td>\n",
       "      <td>-0.034616</td>\n",
       "      <td>0.055051</td>\n",
       "      <td>-0.027951</td>\n",
       "      <td>0.000737</td>\n",
       "      <td>0.015931</td>\n",
       "      <td>0.071311</td>\n",
       "      <td>0.000497</td>\n",
       "      <td>0.017731</td>\n",
       "      <td>0.005821</td>\n",
       "      <td>0.099915</td>\n",
       "      <td>0.015450</td>\n",
       "      <td>0.028744</td>\n",
       "      <td>0.017173</td>\n",
       "      <td>0.015579</td>\n",
       "    </tr>\n",
       "    <tr>\n",
       "      <th>Arrival Date</th>\n",
       "      <td>-0.002426</td>\n",
       "      <td>-0.031969</td>\n",
       "      <td>0.000522</td>\n",
       "      <td>0.086547</td>\n",
       "      <td>1.000000</td>\n",
       "      <td>0.009901</td>\n",
       "      <td>-0.012385</td>\n",
       "      <td>-0.009915</td>\n",
       "      <td>-0.012265</td>\n",
       "      <td>-0.000109</td>\n",
       "      <td>0.007180</td>\n",
       "      <td>-0.001652</td>\n",
       "      <td>0.019633</td>\n",
       "      <td>0.004816</td>\n",
       "      <td>0.006275</td>\n",
       "      <td>0.001626</td>\n",
       "      <td>0.005965</td>\n",
       "      <td>0.013994</td>\n",
       "      <td>0.006310</td>\n",
       "      <td>-0.007976</td>\n",
       "      <td>-0.005230</td>\n",
       "    </tr>\n",
       "    <tr>\n",
       "      <th>Weekend Stays</th>\n",
       "      <td>0.199440</td>\n",
       "      <td>0.017253</td>\n",
       "      <td>0.016435</td>\n",
       "      <td>0.018383</td>\n",
       "      <td>0.009901</td>\n",
       "      <td>1.000000</td>\n",
       "      <td>0.473036</td>\n",
       "      <td>-0.070733</td>\n",
       "      <td>-0.026536</td>\n",
       "      <td>-0.041947</td>\n",
       "      <td>0.065323</td>\n",
       "      <td>-0.030223</td>\n",
       "      <td>0.043326</td>\n",
       "      <td>-0.021512</td>\n",
       "      <td>0.067142</td>\n",
       "      <td>-0.009032</td>\n",
       "      <td>0.067996</td>\n",
       "      <td>0.048660</td>\n",
       "      <td>0.090459</td>\n",
       "      <td>-0.119551</td>\n",
       "      <td>0.754946</td>\n",
       "    </tr>\n",
       "    <tr>\n",
       "      <th>Weekday Stays</th>\n",
       "      <td>0.233150</td>\n",
       "      <td>0.040925</td>\n",
       "      <td>0.013650</td>\n",
       "      <td>0.010980</td>\n",
       "      <td>-0.012385</td>\n",
       "      <td>0.473036</td>\n",
       "      <td>1.000000</td>\n",
       "      <td>-0.095735</td>\n",
       "      <td>-0.027901</td>\n",
       "      <td>-0.053503</td>\n",
       "      <td>0.086692</td>\n",
       "      <td>-0.004477</td>\n",
       "      <td>0.064688</td>\n",
       "      <td>-0.040809</td>\n",
       "      <td>0.055201</td>\n",
       "      <td>0.037186</td>\n",
       "      <td>0.172460</td>\n",
       "      <td>0.051021</td>\n",
       "      <td>0.109624</td>\n",
       "      <td>-0.075029</td>\n",
       "      <td>0.934893</td>\n",
       "    </tr>\n",
       "    <tr>\n",
       "      <th>Repeated Guest</th>\n",
       "      <td>0.056538</td>\n",
       "      <td>0.008258</td>\n",
       "      <td>-0.035511</td>\n",
       "      <td>-0.034616</td>\n",
       "      <td>-0.009915</td>\n",
       "      <td>-0.070733</td>\n",
       "      <td>-0.095735</td>\n",
       "      <td>1.000000</td>\n",
       "      <td>0.137528</td>\n",
       "      <td>0.430953</td>\n",
       "      <td>0.014758</td>\n",
       "      <td>-0.017281</td>\n",
       "      <td>-0.125436</td>\n",
       "      <td>0.071765</td>\n",
       "      <td>0.016153</td>\n",
       "      <td>-0.085175</td>\n",
       "      <td>-0.118747</td>\n",
       "      <td>-0.034799</td>\n",
       "      <td>-0.142294</td>\n",
       "      <td>-0.054284</td>\n",
       "      <td>-0.099754</td>\n",
       "    </tr>\n",
       "    <tr>\n",
       "      <th>Prev Cancel</th>\n",
       "      <td>-0.032038</td>\n",
       "      <td>-0.149275</td>\n",
       "      <td>0.056416</td>\n",
       "      <td>0.055051</td>\n",
       "      <td>-0.012265</td>\n",
       "      <td>-0.026536</td>\n",
       "      <td>-0.027901</td>\n",
       "      <td>0.137528</td>\n",
       "      <td>1.000000</td>\n",
       "      <td>0.254315</td>\n",
       "      <td>-0.030213</td>\n",
       "      <td>0.010196</td>\n",
       "      <td>-0.077759</td>\n",
       "      <td>-0.018878</td>\n",
       "      <td>-0.055401</td>\n",
       "      <td>0.127061</td>\n",
       "      <td>0.096493</td>\n",
       "      <td>-0.033759</td>\n",
       "      <td>-0.035341</td>\n",
       "      <td>0.159028</td>\n",
       "      <td>-0.031458</td>\n",
       "    </tr>\n",
       "    <tr>\n",
       "      <th>History</th>\n",
       "      <td>0.010500</td>\n",
       "      <td>0.031527</td>\n",
       "      <td>-0.028455</td>\n",
       "      <td>-0.027951</td>\n",
       "      <td>-0.000109</td>\n",
       "      <td>-0.041947</td>\n",
       "      <td>-0.053503</td>\n",
       "      <td>0.430953</td>\n",
       "      <td>0.254315</td>\n",
       "      <td>1.000000</td>\n",
       "      <td>0.008159</td>\n",
       "      <td>-0.008564</td>\n",
       "      <td>-0.079681</td>\n",
       "      <td>0.047550</td>\n",
       "      <td>0.033224</td>\n",
       "      <td>-0.055343</td>\n",
       "      <td>-0.076725</td>\n",
       "      <td>-0.023147</td>\n",
       "      <td>-0.104867</td>\n",
       "      <td>-0.029656</td>\n",
       "      <td>-0.056722</td>\n",
       "    </tr>\n",
       "    <tr>\n",
       "      <th>Booking Changes</th>\n",
       "      <td>0.082049</td>\n",
       "      <td>0.033918</td>\n",
       "      <td>-0.000110</td>\n",
       "      <td>0.000737</td>\n",
       "      <td>0.007180</td>\n",
       "      <td>0.065323</td>\n",
       "      <td>0.086692</td>\n",
       "      <td>0.014758</td>\n",
       "      <td>-0.030213</td>\n",
       "      <td>0.008159</td>\n",
       "      <td>1.000000</td>\n",
       "      <td>-0.012639</td>\n",
       "      <td>0.038727</td>\n",
       "      <td>0.052422</td>\n",
       "      <td>0.059206</td>\n",
       "      <td>-0.121808</td>\n",
       "      <td>-0.004509</td>\n",
       "      <td>0.094701</td>\n",
       "      <td>0.014935</td>\n",
       "      <td>-0.109637</td>\n",
       "      <td>0.090843</td>\n",
       "    </tr>\n",
       "    <tr>\n",
       "      <th>Waiting List</th>\n",
       "      <td>-0.056652</td>\n",
       "      <td>-0.029101</td>\n",
       "      <td>0.015067</td>\n",
       "      <td>0.015931</td>\n",
       "      <td>-0.001652</td>\n",
       "      <td>-0.030223</td>\n",
       "      <td>-0.004477</td>\n",
       "      <td>-0.017281</td>\n",
       "      <td>0.010196</td>\n",
       "      <td>-0.008564</td>\n",
       "      <td>-0.012639</td>\n",
       "      <td>1.000000</td>\n",
       "      <td>-0.034216</td>\n",
       "      <td>-0.024813</td>\n",
       "      <td>-0.064496</td>\n",
       "      <td>0.056811</td>\n",
       "      <td>0.122052</td>\n",
       "      <td>-0.027739</td>\n",
       "      <td>-0.021623</td>\n",
       "      <td>0.133349</td>\n",
       "      <td>-0.015508</td>\n",
       "    </tr>\n",
       "    <tr>\n",
       "      <th>Per Day Charges</th>\n",
       "      <td>-0.087109</td>\n",
       "      <td>0.198198</td>\n",
       "      <td>0.077464</td>\n",
       "      <td>0.071311</td>\n",
       "      <td>0.019633</td>\n",
       "      <td>0.043326</td>\n",
       "      <td>0.064688</td>\n",
       "      <td>-0.125436</td>\n",
       "      <td>-0.077759</td>\n",
       "      <td>-0.079681</td>\n",
       "      <td>0.038727</td>\n",
       "      <td>-0.034216</td>\n",
       "      <td>1.000000</td>\n",
       "      <td>0.049999</td>\n",
       "      <td>0.183066</td>\n",
       "      <td>0.026610</td>\n",
       "      <td>-0.077744</td>\n",
       "      <td>0.321326</td>\n",
       "      <td>0.411386</td>\n",
       "      <td>-0.124943</td>\n",
       "      <td>0.065603</td>\n",
       "    </tr>\n",
       "    <tr>\n",
       "      <th>Parking at premises</th>\n",
       "      <td>0.215674</td>\n",
       "      <td>-0.026974</td>\n",
       "      <td>-0.001433</td>\n",
       "      <td>0.000497</td>\n",
       "      <td>0.004816</td>\n",
       "      <td>-0.021512</td>\n",
       "      <td>-0.040809</td>\n",
       "      <td>0.071765</td>\n",
       "      <td>-0.018878</td>\n",
       "      <td>0.047550</td>\n",
       "      <td>0.052422</td>\n",
       "      <td>-0.024813</td>\n",
       "      <td>0.049999</td>\n",
       "      <td>1.000000</td>\n",
       "      <td>0.082164</td>\n",
       "      <td>-0.201436</td>\n",
       "      <td>-0.123462</td>\n",
       "      <td>0.065021</td>\n",
       "      <td>0.038971</td>\n",
       "      <td>-0.087638</td>\n",
       "      <td>-0.039041</td>\n",
       "    </tr>\n",
       "    <tr>\n",
       "      <th>Physical Challenged</th>\n",
       "      <td>0.046334</td>\n",
       "      <td>0.103664</td>\n",
       "      <td>0.019180</td>\n",
       "      <td>0.017731</td>\n",
       "      <td>0.006275</td>\n",
       "      <td>0.067142</td>\n",
       "      <td>0.055201</td>\n",
       "      <td>0.016153</td>\n",
       "      <td>-0.055401</td>\n",
       "      <td>0.033224</td>\n",
       "      <td>0.059206</td>\n",
       "      <td>-0.064496</td>\n",
       "      <td>0.183066</td>\n",
       "      <td>0.082164</td>\n",
       "      <td>1.000000</td>\n",
       "      <td>-0.222243</td>\n",
       "      <td>-0.101750</td>\n",
       "      <td>0.129221</td>\n",
       "      <td>0.158707</td>\n",
       "      <td>-0.255693</td>\n",
       "      <td>0.068136</td>\n",
       "    </tr>\n",
       "    <tr>\n",
       "      <th>Cancellation</th>\n",
       "      <td>-0.116331</td>\n",
       "      <td>0.029818</td>\n",
       "      <td>0.008623</td>\n",
       "      <td>0.005821</td>\n",
       "      <td>0.001626</td>\n",
       "      <td>-0.009032</td>\n",
       "      <td>0.037186</td>\n",
       "      <td>-0.085175</td>\n",
       "      <td>0.127061</td>\n",
       "      <td>-0.055343</td>\n",
       "      <td>-0.121808</td>\n",
       "      <td>0.056811</td>\n",
       "      <td>0.026610</td>\n",
       "      <td>-0.201436</td>\n",
       "      <td>-0.222243</td>\n",
       "      <td>1.000000</td>\n",
       "      <td>0.298306</td>\n",
       "      <td>-0.015605</td>\n",
       "      <td>0.058561</td>\n",
       "      <td>0.427766</td>\n",
       "      <td>0.024040</td>\n",
       "    </tr>\n",
       "    <tr>\n",
       "      <th>Booking Done</th>\n",
       "      <td>-0.075719</td>\n",
       "      <td>0.062067</td>\n",
       "      <td>0.106786</td>\n",
       "      <td>0.099915</td>\n",
       "      <td>0.005965</td>\n",
       "      <td>0.067996</td>\n",
       "      <td>0.172460</td>\n",
       "      <td>-0.118747</td>\n",
       "      <td>0.096493</td>\n",
       "      <td>-0.076725</td>\n",
       "      <td>-0.004509</td>\n",
       "      <td>0.122052</td>\n",
       "      <td>-0.077744</td>\n",
       "      <td>-0.123462</td>\n",
       "      <td>-0.101750</td>\n",
       "      <td>0.298306</td>\n",
       "      <td>1.000000</td>\n",
       "      <td>-0.039770</td>\n",
       "      <td>0.078581</td>\n",
       "      <td>0.392534</td>\n",
       "      <td>0.155759</td>\n",
       "    </tr>\n",
       "    <tr>\n",
       "      <th>is_family</th>\n",
       "      <td>0.056784</td>\n",
       "      <td>0.046018</td>\n",
       "      <td>0.015071</td>\n",
       "      <td>0.015450</td>\n",
       "      <td>0.013994</td>\n",
       "      <td>0.048660</td>\n",
       "      <td>0.051021</td>\n",
       "      <td>-0.034799</td>\n",
       "      <td>-0.033759</td>\n",
       "      <td>-0.023147</td>\n",
       "      <td>0.094701</td>\n",
       "      <td>-0.027739</td>\n",
       "      <td>0.321326</td>\n",
       "      <td>0.065021</td>\n",
       "      <td>0.129221</td>\n",
       "      <td>-0.015605</td>\n",
       "      <td>-0.039770</td>\n",
       "      <td>1.000000</td>\n",
       "      <td>0.619052</td>\n",
       "      <td>-0.097112</td>\n",
       "      <td>0.057579</td>\n",
       "    </tr>\n",
       "    <tr>\n",
       "      <th>total_Customer</th>\n",
       "      <td>0.025080</td>\n",
       "      <td>0.062209</td>\n",
       "      <td>0.031083</td>\n",
       "      <td>0.028744</td>\n",
       "      <td>0.006310</td>\n",
       "      <td>0.090459</td>\n",
       "      <td>0.109624</td>\n",
       "      <td>-0.142294</td>\n",
       "      <td>-0.035341</td>\n",
       "      <td>-0.104867</td>\n",
       "      <td>0.014935</td>\n",
       "      <td>-0.021623</td>\n",
       "      <td>0.411386</td>\n",
       "      <td>0.038971</td>\n",
       "      <td>0.158707</td>\n",
       "      <td>0.058561</td>\n",
       "      <td>0.078581</td>\n",
       "      <td>0.619052</td>\n",
       "      <td>1.000000</td>\n",
       "      <td>-0.060927</td>\n",
       "      <td>0.118038</td>\n",
       "    </tr>\n",
       "    <tr>\n",
       "      <th>Booking_given</th>\n",
       "      <td>-0.167709</td>\n",
       "      <td>-0.055485</td>\n",
       "      <td>0.018976</td>\n",
       "      <td>0.017173</td>\n",
       "      <td>-0.007976</td>\n",
       "      <td>-0.119551</td>\n",
       "      <td>-0.075029</td>\n",
       "      <td>-0.054284</td>\n",
       "      <td>0.159028</td>\n",
       "      <td>-0.029656</td>\n",
       "      <td>-0.109637</td>\n",
       "      <td>0.133349</td>\n",
       "      <td>-0.124943</td>\n",
       "      <td>-0.087638</td>\n",
       "      <td>-0.255693</td>\n",
       "      <td>0.427766</td>\n",
       "      <td>0.392534</td>\n",
       "      <td>-0.097112</td>\n",
       "      <td>-0.060927</td>\n",
       "      <td>1.000000</td>\n",
       "      <td>-0.104008</td>\n",
       "    </tr>\n",
       "    <tr>\n",
       "      <th>total_nights</th>\n",
       "      <td>0.253885</td>\n",
       "      <td>0.037412</td>\n",
       "      <td>0.016781</td>\n",
       "      <td>0.015579</td>\n",
       "      <td>-0.005230</td>\n",
       "      <td>0.754946</td>\n",
       "      <td>0.934893</td>\n",
       "      <td>-0.099754</td>\n",
       "      <td>-0.031458</td>\n",
       "      <td>-0.056722</td>\n",
       "      <td>0.090843</td>\n",
       "      <td>-0.015508</td>\n",
       "      <td>0.065603</td>\n",
       "      <td>-0.039041</td>\n",
       "      <td>0.068136</td>\n",
       "      <td>0.024040</td>\n",
       "      <td>0.155759</td>\n",
       "      <td>0.057579</td>\n",
       "      <td>0.118038</td>\n",
       "      <td>-0.104008</td>\n",
       "      <td>1.000000</td>\n",
       "    </tr>\n",
       "  </tbody>\n",
       "</table>\n",
       "</div>"
      ],
      "text/plain": [
       "                     Type of Hotel      Year     Month  Arrival week  \\\n",
       "Type of Hotel             1.000000 -0.033400 -0.000548      0.000267   \n",
       "Year                     -0.033400  1.000000 -0.526881     -0.543697   \n",
       "Month                    -0.000548 -0.526881  1.000000      0.993953   \n",
       "Arrival week              0.000267 -0.543697  0.993953      1.000000   \n",
       "Arrival Date             -0.002426 -0.031969  0.000522      0.086547   \n",
       "Weekend Stays             0.199440  0.017253  0.016435      0.018383   \n",
       "Weekday Stays             0.233150  0.040925  0.013650      0.010980   \n",
       "Repeated Guest            0.056538  0.008258 -0.035511     -0.034616   \n",
       "Prev Cancel              -0.032038 -0.149275  0.056416      0.055051   \n",
       "History                   0.010500  0.031527 -0.028455     -0.027951   \n",
       "Booking Changes           0.082049  0.033918 -0.000110      0.000737   \n",
       "Waiting List             -0.056652 -0.029101  0.015067      0.015931   \n",
       "Per Day Charges          -0.087109  0.198198  0.077464      0.071311   \n",
       "Parking at premises       0.215674 -0.026974 -0.001433      0.000497   \n",
       "Physical Challenged       0.046334  0.103664  0.019180      0.017731   \n",
       "Cancellation             -0.116331  0.029818  0.008623      0.005821   \n",
       "Booking Done             -0.075719  0.062067  0.106786      0.099915   \n",
       "is_family                 0.056784  0.046018  0.015071      0.015450   \n",
       "total_Customer            0.025080  0.062209  0.031083      0.028744   \n",
       "Booking_given            -0.167709 -0.055485  0.018976      0.017173   \n",
       "total_nights              0.253885  0.037412  0.016781      0.015579   \n",
       "\n",
       "                     Arrival Date  Weekend Stays  Weekday Stays  \\\n",
       "Type of Hotel           -0.002426       0.199440       0.233150   \n",
       "Year                    -0.031969       0.017253       0.040925   \n",
       "Month                    0.000522       0.016435       0.013650   \n",
       "Arrival week             0.086547       0.018383       0.010980   \n",
       "Arrival Date             1.000000       0.009901      -0.012385   \n",
       "Weekend Stays            0.009901       1.000000       0.473036   \n",
       "Weekday Stays           -0.012385       0.473036       1.000000   \n",
       "Repeated Guest          -0.009915      -0.070733      -0.095735   \n",
       "Prev Cancel             -0.012265      -0.026536      -0.027901   \n",
       "History                 -0.000109      -0.041947      -0.053503   \n",
       "Booking Changes          0.007180       0.065323       0.086692   \n",
       "Waiting List            -0.001652      -0.030223      -0.004477   \n",
       "Per Day Charges          0.019633       0.043326       0.064688   \n",
       "Parking at premises      0.004816      -0.021512      -0.040809   \n",
       "Physical Challenged      0.006275       0.067142       0.055201   \n",
       "Cancellation             0.001626      -0.009032       0.037186   \n",
       "Booking Done             0.005965       0.067996       0.172460   \n",
       "is_family                0.013994       0.048660       0.051021   \n",
       "total_Customer           0.006310       0.090459       0.109624   \n",
       "Booking_given           -0.007976      -0.119551      -0.075029   \n",
       "total_nights            -0.005230       0.754946       0.934893   \n",
       "\n",
       "                     Repeated Guest  Prev Cancel   History  Booking Changes  \\\n",
       "Type of Hotel              0.056538    -0.032038  0.010500         0.082049   \n",
       "Year                       0.008258    -0.149275  0.031527         0.033918   \n",
       "Month                     -0.035511     0.056416 -0.028455        -0.000110   \n",
       "Arrival week              -0.034616     0.055051 -0.027951         0.000737   \n",
       "Arrival Date              -0.009915    -0.012265 -0.000109         0.007180   \n",
       "Weekend Stays             -0.070733    -0.026536 -0.041947         0.065323   \n",
       "Weekday Stays             -0.095735    -0.027901 -0.053503         0.086692   \n",
       "Repeated Guest             1.000000     0.137528  0.430953         0.014758   \n",
       "Prev Cancel                0.137528     1.000000  0.254315        -0.030213   \n",
       "History                    0.430953     0.254315  1.000000         0.008159   \n",
       "Booking Changes            0.014758    -0.030213  0.008159         1.000000   \n",
       "Waiting List              -0.017281     0.010196 -0.008564        -0.012639   \n",
       "Per Day Charges           -0.125436    -0.077759 -0.079681         0.038727   \n",
       "Parking at premises        0.071765    -0.018878  0.047550         0.052422   \n",
       "Physical Challenged        0.016153    -0.055401  0.033224         0.059206   \n",
       "Cancellation              -0.085175     0.127061 -0.055343        -0.121808   \n",
       "Booking Done              -0.118747     0.096493 -0.076725        -0.004509   \n",
       "is_family                 -0.034799    -0.033759 -0.023147         0.094701   \n",
       "total_Customer            -0.142294    -0.035341 -0.104867         0.014935   \n",
       "Booking_given             -0.054284     0.159028 -0.029656        -0.109637   \n",
       "total_nights              -0.099754    -0.031458 -0.056722         0.090843   \n",
       "\n",
       "                     Waiting List  Per Day Charges  Parking at premises  \\\n",
       "Type of Hotel           -0.056652        -0.087109             0.215674   \n",
       "Year                    -0.029101         0.198198            -0.026974   \n",
       "Month                    0.015067         0.077464            -0.001433   \n",
       "Arrival week             0.015931         0.071311             0.000497   \n",
       "Arrival Date            -0.001652         0.019633             0.004816   \n",
       "Weekend Stays           -0.030223         0.043326            -0.021512   \n",
       "Weekday Stays           -0.004477         0.064688            -0.040809   \n",
       "Repeated Guest          -0.017281        -0.125436             0.071765   \n",
       "Prev Cancel              0.010196        -0.077759            -0.018878   \n",
       "History                 -0.008564        -0.079681             0.047550   \n",
       "Booking Changes         -0.012639         0.038727             0.052422   \n",
       "Waiting List             1.000000        -0.034216            -0.024813   \n",
       "Per Day Charges         -0.034216         1.000000             0.049999   \n",
       "Parking at premises     -0.024813         0.049999             1.000000   \n",
       "Physical Challenged     -0.064496         0.183066             0.082164   \n",
       "Cancellation             0.056811         0.026610            -0.201436   \n",
       "Booking Done             0.122052        -0.077744            -0.123462   \n",
       "is_family               -0.027739         0.321326             0.065021   \n",
       "total_Customer          -0.021623         0.411386             0.038971   \n",
       "Booking_given            0.133349        -0.124943            -0.087638   \n",
       "total_nights            -0.015508         0.065603            -0.039041   \n",
       "\n",
       "                     Physical Challenged  Cancellation  Booking Done  \\\n",
       "Type of Hotel                   0.046334     -0.116331     -0.075719   \n",
       "Year                            0.103664      0.029818      0.062067   \n",
       "Month                           0.019180      0.008623      0.106786   \n",
       "Arrival week                    0.017731      0.005821      0.099915   \n",
       "Arrival Date                    0.006275      0.001626      0.005965   \n",
       "Weekend Stays                   0.067142     -0.009032      0.067996   \n",
       "Weekday Stays                   0.055201      0.037186      0.172460   \n",
       "Repeated Guest                  0.016153     -0.085175     -0.118747   \n",
       "Prev Cancel                    -0.055401      0.127061      0.096493   \n",
       "History                         0.033224     -0.055343     -0.076725   \n",
       "Booking Changes                 0.059206     -0.121808     -0.004509   \n",
       "Waiting List                   -0.064496      0.056811      0.122052   \n",
       "Per Day Charges                 0.183066      0.026610     -0.077744   \n",
       "Parking at premises             0.082164     -0.201436     -0.123462   \n",
       "Physical Challenged             1.000000     -0.222243     -0.101750   \n",
       "Cancellation                   -0.222243      1.000000      0.298306   \n",
       "Booking Done                   -0.101750      0.298306      1.000000   \n",
       "is_family                       0.129221     -0.015605     -0.039770   \n",
       "total_Customer                  0.158707      0.058561      0.078581   \n",
       "Booking_given                  -0.255693      0.427766      0.392534   \n",
       "total_nights                    0.068136      0.024040      0.155759   \n",
       "\n",
       "                     is_family  total_Customer  Booking_given  total_nights  \n",
       "Type of Hotel         0.056784        0.025080      -0.167709      0.253885  \n",
       "Year                  0.046018        0.062209      -0.055485      0.037412  \n",
       "Month                 0.015071        0.031083       0.018976      0.016781  \n",
       "Arrival week          0.015450        0.028744       0.017173      0.015579  \n",
       "Arrival Date          0.013994        0.006310      -0.007976     -0.005230  \n",
       "Weekend Stays         0.048660        0.090459      -0.119551      0.754946  \n",
       "Weekday Stays         0.051021        0.109624      -0.075029      0.934893  \n",
       "Repeated Guest       -0.034799       -0.142294      -0.054284     -0.099754  \n",
       "Prev Cancel          -0.033759       -0.035341       0.159028     -0.031458  \n",
       "History              -0.023147       -0.104867      -0.029656     -0.056722  \n",
       "Booking Changes       0.094701        0.014935      -0.109637      0.090843  \n",
       "Waiting List         -0.027739       -0.021623       0.133349     -0.015508  \n",
       "Per Day Charges       0.321326        0.411386      -0.124943      0.065603  \n",
       "Parking at premises   0.065021        0.038971      -0.087638     -0.039041  \n",
       "Physical Challenged   0.129221        0.158707      -0.255693      0.068136  \n",
       "Cancellation         -0.015605        0.058561       0.427766      0.024040  \n",
       "Booking Done         -0.039770        0.078581       0.392534      0.155759  \n",
       "is_family             1.000000        0.619052      -0.097112      0.057579  \n",
       "total_Customer        0.619052        1.000000      -0.060927      0.118038  \n",
       "Booking_given        -0.097112       -0.060927       1.000000     -0.104008  \n",
       "total_nights          0.057579        0.118038      -0.104008      1.000000  "
      ]
     },
     "execution_count": 30,
     "metadata": {},
     "output_type": "execute_result"
    }
   ],
   "source": [
    "cor_data.corr()"
   ]
  },
  {
   "cell_type": "code",
   "execution_count": 31,
   "id": "7b014870",
   "metadata": {},
   "outputs": [
    {
     "data": {
      "text/plain": [
       "Physical Challenged   -0.222243\n",
       "Parking at premises   -0.201436\n",
       "Booking Changes       -0.121808\n",
       "Type of Hotel         -0.116331\n",
       "Repeated Guest        -0.085175\n",
       "History               -0.055343\n",
       "is_family             -0.015605\n",
       "Weekend Stays         -0.009032\n",
       "Arrival Date           0.001626\n",
       "Arrival week           0.005821\n",
       "Month                  0.008623\n",
       "total_nights           0.024040\n",
       "Per Day Charges        0.026610\n",
       "Year                   0.029818\n",
       "Weekday Stays          0.037186\n",
       "Waiting List           0.056811\n",
       "total_Customer         0.058561\n",
       "Prev Cancel            0.127061\n",
       "Booking Done           0.298306\n",
       "Booking_given          0.427766\n",
       "Cancellation           1.000000\n",
       "Name: Cancellation, dtype: float64"
      ]
     },
     "execution_count": 31,
     "metadata": {},
     "output_type": "execute_result"
    }
   ],
   "source": [
    "cor_data.corr()[\"Cancellation\"].sort_values()"
   ]
  },
  {
   "cell_type": "markdown",
   "id": "a7a7344d",
   "metadata": {},
   "source": [
    "impacts of three feature that are created:\n",
    "\n",
    "booking_given = 0.4277\n",
    "\n",
    "is_family = -0.0156\n",
    "\n",
    "total_customer = 0.0585\n",
    "\n",
    "Apart from that, I will not use arrival_date_week_number, stays_in_weekend_nights and arrival_date_day_of_month since their importances are really low while predicting cancellations.\n",
    "\n"
   ]
  },
  {
   "cell_type": "code",
   "execution_count": 32,
   "id": "bddb3b23",
   "metadata": {},
   "outputs": [
    {
     "data": {
      "text/plain": [
       "Type of Hotel          0.233150\n",
       "Year                   0.040925\n",
       "Month                  0.013650\n",
       "Arrival week           0.010980\n",
       "Arrival Date          -0.012385\n",
       "Weekend Stays          0.473036\n",
       "Weekday Stays          1.000000\n",
       "Repeated Guest        -0.095735\n",
       "Prev Cancel           -0.027901\n",
       "History               -0.053503\n",
       "Booking Changes        0.086692\n",
       "Waiting List          -0.004477\n",
       "Per Day Charges        0.064688\n",
       "Parking at premises   -0.040809\n",
       "Physical Challenged    0.055201\n",
       "Cancellation           0.037186\n",
       "Booking Done           0.172460\n",
       "is_family              0.051021\n",
       "total_Customer         0.109624\n",
       "Booking_given         -0.075029\n",
       "total_nights           0.934893\n",
       "Name: Weekday Stays, dtype: float64"
      ]
     },
     "execution_count": 32,
     "metadata": {},
     "output_type": "execute_result"
    }
   ],
   "source": [
    "cor_data.corr()['Weekday Stays']"
   ]
  },
  {
   "cell_type": "code",
   "execution_count": 33,
   "id": "29a31843",
   "metadata": {},
   "outputs": [],
   "source": [
    "cor_data = cor_data.drop(columns = ['total_nights', 'Arrival week', 'Weekend Stays', 'Month'], axis = 1)"
   ]
  },
  {
   "cell_type": "code",
   "execution_count": 34,
   "id": "54a3bb14",
   "metadata": {},
   "outputs": [
    {
     "data": {
      "text/plain": [
       "Type of Hotel          0\n",
       "Year                   0\n",
       "Arrival Date           0\n",
       "Weekday Stays          0\n",
       "Meal                   0\n",
       "Country                0\n",
       "Booking Type           0\n",
       "Repeated Guest         0\n",
       "Prev Cancel            0\n",
       "History                0\n",
       "Reserved Room          0\n",
       "Assigned Room          0\n",
       "Booking Changes        0\n",
       "Waiting List           0\n",
       "Customer               0\n",
       "Per Day Charges        0\n",
       "Parking at premises    0\n",
       "Physical Challenged    0\n",
       "Reservation Status     0\n",
       "Cancellation           0\n",
       "Booking Done           0\n",
       "is_family              0\n",
       "total_Customer         0\n",
       "Booking_given          0\n",
       "dtype: int64"
      ]
     },
     "execution_count": 34,
     "metadata": {},
     "output_type": "execute_result"
    }
   ],
   "source": [
    "indices = cor_data.loc[pd.isna(cor_data[\"Country\"]), :].index\n",
    "cor_data = cor_data.drop(cor_data.index[indices])\n",
    "cor_data.isnull().sum()"
   ]
  },
  {
   "cell_type": "code",
   "execution_count": 35,
   "id": "2806ddc9",
   "metadata": {},
   "outputs": [],
   "source": [
    "indices = data.loc[pd.isna(data[\"Country\"]), :].index \n",
    "data = data.drop(data.index[indices])\n",
    "data = data.drop(columns = ['Arrival week', 'Weekend Stays', 'Month'], axis = 1)"
   ]
  },
  {
   "cell_type": "code",
   "execution_count": 36,
   "id": "64e36cdb",
   "metadata": {},
   "outputs": [
    {
     "data": {
      "text/plain": [
       "Index(['Type of Hotel', 'Year', 'Arrival Date', 'Weekday Stays', 'Meal',\n",
       "       'Country', 'Booking Type', 'Repeated Guest', 'Prev Cancel', 'History',\n",
       "       'Reserved Room', 'Assigned Room', 'Booking Changes', 'Waiting List',\n",
       "       'Customer', 'Per Day Charges', 'Parking at premises',\n",
       "       'Physical Challenged', 'Reservation Status', 'Cancellation',\n",
       "       'Booking Done', 'is_family', 'total_Customer', 'Booking_given',\n",
       "       'total_nights'],\n",
       "      dtype='object')"
      ]
     },
     "execution_count": 36,
     "metadata": {},
     "output_type": "execute_result"
    }
   ],
   "source": [
    "data.columns"
   ]
  },
  {
   "cell_type": "code",
   "execution_count": 37,
   "id": "5c25154a",
   "metadata": {},
   "outputs": [],
   "source": [
    "#I keep data in case of any changes on features, missing values etc.\n",
    "df1=data.copy()"
   ]
  },
  {
   "cell_type": "code",
   "execution_count": 38,
   "id": "3e11dfb8",
   "metadata": {},
   "outputs": [],
   "source": [
    "df1 = pd.get_dummies(data = df1, columns = ['Meal', 'Booking Type','Reserved Room', 'Assigned Room',\n",
    "                                            'Customer', 'Reservation Status'])"
   ]
  },
  {
   "cell_type": "code",
   "execution_count": 39,
   "id": "2d2df992",
   "metadata": {},
   "outputs": [],
   "source": [
    "df1['Country'] = le.fit_transform(df1['Country']) "
   ]
  },
  {
   "cell_type": "code",
   "execution_count": 40,
   "id": "6a15baf0",
   "metadata": {},
   "outputs": [
    {
     "data": {
      "text/html": [
       "<div>\n",
       "<style scoped>\n",
       "    .dataframe tbody tr th:only-of-type {\n",
       "        vertical-align: middle;\n",
       "    }\n",
       "\n",
       "    .dataframe tbody tr th {\n",
       "        vertical-align: top;\n",
       "    }\n",
       "\n",
       "    .dataframe thead th {\n",
       "        text-align: right;\n",
       "    }\n",
       "</style>\n",
       "<table border=\"1\" class=\"dataframe\">\n",
       "  <thead>\n",
       "    <tr style=\"text-align: right;\">\n",
       "      <th></th>\n",
       "      <th>Type of Hotel</th>\n",
       "      <th>Year</th>\n",
       "      <th>Arrival Date</th>\n",
       "      <th>Weekday Stays</th>\n",
       "      <th>Country</th>\n",
       "      <th>Repeated Guest</th>\n",
       "      <th>Prev Cancel</th>\n",
       "      <th>History</th>\n",
       "      <th>Booking Changes</th>\n",
       "      <th>Waiting List</th>\n",
       "      <th>Per Day Charges</th>\n",
       "      <th>Parking at premises</th>\n",
       "      <th>Physical Challenged</th>\n",
       "      <th>Cancellation</th>\n",
       "      <th>Booking Done</th>\n",
       "      <th>...</th>\n",
       "      <th>Assigned Room_3</th>\n",
       "      <th>Assigned Room_4</th>\n",
       "      <th>Assigned Room_5</th>\n",
       "      <th>Assigned Room_6</th>\n",
       "      <th>Assigned Room_7</th>\n",
       "      <th>Assigned Room_8</th>\n",
       "      <th>Assigned Room_9</th>\n",
       "      <th>Assigned Room_10</th>\n",
       "      <th>Customer_0</th>\n",
       "      <th>Customer_1</th>\n",
       "      <th>Customer_2</th>\n",
       "      <th>Customer_3</th>\n",
       "      <th>Reservation Status_0</th>\n",
       "      <th>Reservation Status_1</th>\n",
       "      <th>Reservation Status_2</th>\n",
       "    </tr>\n",
       "  </thead>\n",
       "  <tbody>\n",
       "    <tr>\n",
       "      <th>0</th>\n",
       "      <td>0</td>\n",
       "      <td>2015</td>\n",
       "      <td>28</td>\n",
       "      <td>3</td>\n",
       "      <td>85</td>\n",
       "      <td>0</td>\n",
       "      <td>0</td>\n",
       "      <td>0</td>\n",
       "      <td>0</td>\n",
       "      <td>0</td>\n",
       "      <td>132.0</td>\n",
       "      <td>0</td>\n",
       "      <td>2</td>\n",
       "      <td>0</td>\n",
       "      <td>44</td>\n",
       "      <td>...</td>\n",
       "      <td>0</td>\n",
       "      <td>0</td>\n",
       "      <td>0</td>\n",
       "      <td>0</td>\n",
       "      <td>0</td>\n",
       "      <td>0</td>\n",
       "      <td>0</td>\n",
       "      <td>0</td>\n",
       "      <td>1</td>\n",
       "      <td>0</td>\n",
       "      <td>0</td>\n",
       "      <td>0</td>\n",
       "      <td>0</td>\n",
       "      <td>1</td>\n",
       "      <td>0</td>\n",
       "    </tr>\n",
       "    <tr>\n",
       "      <th>1</th>\n",
       "      <td>1</td>\n",
       "      <td>2016</td>\n",
       "      <td>25</td>\n",
       "      <td>3</td>\n",
       "      <td>33</td>\n",
       "      <td>0</td>\n",
       "      <td>0</td>\n",
       "      <td>0</td>\n",
       "      <td>1</td>\n",
       "      <td>0</td>\n",
       "      <td>150.0</td>\n",
       "      <td>1</td>\n",
       "      <td>1</td>\n",
       "      <td>0</td>\n",
       "      <td>27</td>\n",
       "      <td>...</td>\n",
       "      <td>0</td>\n",
       "      <td>0</td>\n",
       "      <td>0</td>\n",
       "      <td>0</td>\n",
       "      <td>0</td>\n",
       "      <td>0</td>\n",
       "      <td>0</td>\n",
       "      <td>0</td>\n",
       "      <td>0</td>\n",
       "      <td>0</td>\n",
       "      <td>1</td>\n",
       "      <td>0</td>\n",
       "      <td>0</td>\n",
       "      <td>1</td>\n",
       "      <td>0</td>\n",
       "    </tr>\n",
       "    <tr>\n",
       "      <th>2</th>\n",
       "      <td>1</td>\n",
       "      <td>2017</td>\n",
       "      <td>21</td>\n",
       "      <td>1</td>\n",
       "      <td>36</td>\n",
       "      <td>0</td>\n",
       "      <td>0</td>\n",
       "      <td>0</td>\n",
       "      <td>0</td>\n",
       "      <td>0</td>\n",
       "      <td>44.0</td>\n",
       "      <td>0</td>\n",
       "      <td>1</td>\n",
       "      <td>0</td>\n",
       "      <td>180</td>\n",
       "      <td>...</td>\n",
       "      <td>0</td>\n",
       "      <td>0</td>\n",
       "      <td>0</td>\n",
       "      <td>0</td>\n",
       "      <td>0</td>\n",
       "      <td>0</td>\n",
       "      <td>0</td>\n",
       "      <td>0</td>\n",
       "      <td>0</td>\n",
       "      <td>0</td>\n",
       "      <td>0</td>\n",
       "      <td>1</td>\n",
       "      <td>0</td>\n",
       "      <td>1</td>\n",
       "      <td>0</td>\n",
       "    </tr>\n",
       "    <tr>\n",
       "      <th>3</th>\n",
       "      <td>0</td>\n",
       "      <td>2016</td>\n",
       "      <td>27</td>\n",
       "      <td>0</td>\n",
       "      <td>7</td>\n",
       "      <td>0</td>\n",
       "      <td>0</td>\n",
       "      <td>0</td>\n",
       "      <td>0</td>\n",
       "      <td>0</td>\n",
       "      <td>151.0</td>\n",
       "      <td>0</td>\n",
       "      <td>4</td>\n",
       "      <td>0</td>\n",
       "      <td>59</td>\n",
       "      <td>...</td>\n",
       "      <td>1</td>\n",
       "      <td>0</td>\n",
       "      <td>0</td>\n",
       "      <td>0</td>\n",
       "      <td>0</td>\n",
       "      <td>0</td>\n",
       "      <td>0</td>\n",
       "      <td>0</td>\n",
       "      <td>0</td>\n",
       "      <td>0</td>\n",
       "      <td>1</td>\n",
       "      <td>0</td>\n",
       "      <td>0</td>\n",
       "      <td>1</td>\n",
       "      <td>0</td>\n",
       "    </tr>\n",
       "    <tr>\n",
       "      <th>4</th>\n",
       "      <td>0</td>\n",
       "      <td>2016</td>\n",
       "      <td>20</td>\n",
       "      <td>2</td>\n",
       "      <td>27</td>\n",
       "      <td>0</td>\n",
       "      <td>0</td>\n",
       "      <td>0</td>\n",
       "      <td>0</td>\n",
       "      <td>0</td>\n",
       "      <td>115.0</td>\n",
       "      <td>0</td>\n",
       "      <td>1</td>\n",
       "      <td>0</td>\n",
       "      <td>313</td>\n",
       "      <td>...</td>\n",
       "      <td>0</td>\n",
       "      <td>0</td>\n",
       "      <td>0</td>\n",
       "      <td>0</td>\n",
       "      <td>0</td>\n",
       "      <td>0</td>\n",
       "      <td>0</td>\n",
       "      <td>0</td>\n",
       "      <td>0</td>\n",
       "      <td>0</td>\n",
       "      <td>0</td>\n",
       "      <td>1</td>\n",
       "      <td>0</td>\n",
       "      <td>1</td>\n",
       "      <td>0</td>\n",
       "    </tr>\n",
       "  </tbody>\n",
       "</table>\n",
       "<p>5 rows × 59 columns</p>\n",
       "</div>"
      ],
      "text/plain": [
       "   Type of Hotel  Year  Arrival Date  Weekday Stays  Country  Repeated Guest  \\\n",
       "0              0  2015            28              3       85               0   \n",
       "1              1  2016            25              3       33               0   \n",
       "2              1  2017            21              1       36               0   \n",
       "3              0  2016            27              0        7               0   \n",
       "4              0  2016            20              2       27               0   \n",
       "\n",
       "   Prev Cancel  History  Booking Changes  Waiting List  Per Day Charges  \\\n",
       "0            0        0                0             0            132.0   \n",
       "1            0        0                1             0            150.0   \n",
       "2            0        0                0             0             44.0   \n",
       "3            0        0                0             0            151.0   \n",
       "4            0        0                0             0            115.0   \n",
       "\n",
       "   Parking at premises  Physical Challenged  Cancellation  Booking Done  ...  \\\n",
       "0                    0                    2             0            44  ...   \n",
       "1                    1                    1             0            27  ...   \n",
       "2                    0                    1             0           180  ...   \n",
       "3                    0                    4             0            59  ...   \n",
       "4                    0                    1             0           313  ...   \n",
       "\n",
       "   Assigned Room_3  Assigned Room_4  Assigned Room_5  Assigned Room_6  \\\n",
       "0                0                0                0                0   \n",
       "1                0                0                0                0   \n",
       "2                0                0                0                0   \n",
       "3                1                0                0                0   \n",
       "4                0                0                0                0   \n",
       "\n",
       "   Assigned Room_7  Assigned Room_8  Assigned Room_9  Assigned Room_10  \\\n",
       "0                0                0                0                 0   \n",
       "1                0                0                0                 0   \n",
       "2                0                0                0                 0   \n",
       "3                0                0                0                 0   \n",
       "4                0                0                0                 0   \n",
       "\n",
       "   Customer_0  Customer_1  Customer_2  Customer_3  Reservation Status_0  \\\n",
       "0           1           0           0           0                     0   \n",
       "1           0           0           1           0                     0   \n",
       "2           0           0           0           1                     0   \n",
       "3           0           0           1           0                     0   \n",
       "4           0           0           0           1                     0   \n",
       "\n",
       "   Reservation Status_1  Reservation Status_2  \n",
       "0                     1                     0  \n",
       "1                     1                     0  \n",
       "2                     1                     0  \n",
       "3                     1                     0  \n",
       "4                     1                     0  \n",
       "\n",
       "[5 rows x 59 columns]"
      ]
     },
     "execution_count": 40,
     "metadata": {},
     "output_type": "execute_result"
    }
   ],
   "source": [
    "df1.head()"
   ]
  },
  {
   "cell_type": "markdown",
   "id": "30121928",
   "metadata": {},
   "source": [
    "# Decision Tree Model (reservation_status included)"
   ]
  },
  {
   "cell_type": "code",
   "execution_count": 41,
   "id": "38041e2f",
   "metadata": {},
   "outputs": [],
   "source": [
    "y=df1['Cancellation']\n",
    "x=df1.drop(['Cancellation'],axis=1)\n",
    "\n",
    "x_train,x_test,y_train,y_test=train_test_split(x,y, test_size=0.30,random_state=42)"
   ]
  },
  {
   "cell_type": "code",
   "execution_count": 42,
   "id": "78290ece",
   "metadata": {},
   "outputs": [],
   "source": [
    "cart=DecisionTreeClassifier(max_depth=12)\n"
   ]
  },
  {
   "cell_type": "code",
   "execution_count": 43,
   "id": "78e287a3",
   "metadata": {},
   "outputs": [],
   "source": [
    "cart_model=cart.fit(x_train,y_train)"
   ]
  },
  {
   "cell_type": "code",
   "execution_count": 44,
   "id": "93bbcffd",
   "metadata": {},
   "outputs": [],
   "source": [
    "y_pred=cart_model.predict(x_test)"
   ]
  },
  {
   "cell_type": "code",
   "execution_count": 45,
   "id": "41a8f63b",
   "metadata": {},
   "outputs": [
    {
     "name": "stdout",
     "output_type": "stream",
     "text": [
      "Accuracy Score: 0.9997024805682622\n",
      "\n",
      "Confusion Matrix:\n",
      " [[16910     2]\n",
      " [    6  9971]]\n",
      "\n",
      "AUC Score: 0.9996401787972318\n"
     ]
    }
   ],
   "source": [
    "print('Accuracy Score: {}\\n\\nConfusion Matrix:\\n {}\\n\\nAUC Score: {}'\n",
    "      .format(accuracy_score(y_test,y_pred), confusion_matrix(y_test,y_pred), roc_auc_score(y_test,y_pred)))"
   ]
  },
  {
   "cell_type": "code",
   "execution_count": 46,
   "id": "d324ca68",
   "metadata": {},
   "outputs": [
    {
     "data": {
      "text/plain": [
       "Text(0.5, 0, 'Feature Importances (%)')"
      ]
     },
     "execution_count": 46,
     "metadata": {},
     "output_type": "execute_result"
    },
    {
     "data": {
      "image/png": "[encoded data removed]",
      "text/plain": [
       "<Figure size 432x288 with 1 Axes>"
      ]
     },
     "metadata": {},
     "output_type": "display_data"
    }
   ],
   "source": [
    "pd.DataFrame(data = cart_model.feature_importances_*100,\n",
    "                   columns = [\"Importances\"],\n",
    "                   index = x_train.columns).sort_values(\"Importances\", ascending = False)[:20].plot(kind = \"barh\", color = \"r\")\n",
    "\n",
    "plt.xlabel(\"Feature Importances (%)\")"
   ]
  },
  {
   "cell_type": "markdown",
   "id": "4d4c5655",
   "metadata": {},
   "source": [
    " Reservation status dominates other features totally. By keeping reservation_status in data, it is possible to achieve 100% accuracy rate because that feature is direct way to predict cancellations, its like cheating. For the sake of analysis I will drop reservation_status and continue analysis without it."
   ]
  },
  {
   "cell_type": "markdown",
   "id": "82810043",
   "metadata": {},
   "source": [
    "# Final Arrangements Before Comparing the Models"
   ]
  },
  {
   "cell_type": "code",
   "execution_count": 49,
   "id": "94a8ba3b",
   "metadata": {
    "scrolled": true
   },
   "outputs": [
    {
     "ename": "KeyError",
     "evalue": "\"['Reservation Status_Canceled,Reservation Status_Check_Out', 'Reservation Status_No-Show'] not found in axis\"",
     "output_type": "error",
     "traceback": [
      "\u001b[1;31m---------------------------------------------------------------------------\u001b[0m",
      "\u001b[1;31mKeyError\u001b[0m                                  Traceback (most recent call last)",
      "Input \u001b[1;32mIn [49]\u001b[0m, in \u001b[0;36m<cell line: 1>\u001b[1;34m()\u001b[0m\n\u001b[1;32m----> 1\u001b[0m df2\u001b[38;5;241m=\u001b[39m \u001b[43mdf1\u001b[49m\u001b[38;5;241;43m.\u001b[39;49m\u001b[43mdrop\u001b[49m\u001b[43m(\u001b[49m\u001b[43mcolumns\u001b[49m\u001b[43m \u001b[49m\u001b[38;5;241;43m=\u001b[39;49m\u001b[43m \u001b[49m\u001b[43m[\u001b[49m\u001b[38;5;124;43m'\u001b[39;49m\u001b[38;5;124;43mReservation Status_Canceled,Reservation Status_Check_Out\u001b[39;49m\u001b[38;5;124;43m'\u001b[39;49m\u001b[43m,\u001b[49m\u001b[38;5;124;43m'\u001b[39;49m\u001b[38;5;124;43mReservation Status_No-Show\u001b[39;49m\u001b[38;5;124;43m'\u001b[39;49m\u001b[43m]\u001b[49m\u001b[43m,\u001b[49m\u001b[43m \u001b[49m\u001b[43maxis\u001b[49m\u001b[43m \u001b[49m\u001b[38;5;241;43m=\u001b[39;49m\u001b[43m \u001b[49m\u001b[38;5;241;43m0\u001b[39;49m\u001b[43m)\u001b[49m\n",
      "File \u001b[1;32m~\\data is good\\lib\\site-packages\\pandas\\util\\_decorators.py:311\u001b[0m, in \u001b[0;36mdeprecate_nonkeyword_arguments.<locals>.decorate.<locals>.wrapper\u001b[1;34m(*args, **kwargs)\u001b[0m\n\u001b[0;32m    305\u001b[0m \u001b[38;5;28;01mif\u001b[39;00m \u001b[38;5;28mlen\u001b[39m(args) \u001b[38;5;241m>\u001b[39m num_allow_args:\n\u001b[0;32m    306\u001b[0m     warnings\u001b[38;5;241m.\u001b[39mwarn(\n\u001b[0;32m    307\u001b[0m         msg\u001b[38;5;241m.\u001b[39mformat(arguments\u001b[38;5;241m=\u001b[39marguments),\n\u001b[0;32m    308\u001b[0m         \u001b[38;5;167;01mFutureWarning\u001b[39;00m,\n\u001b[0;32m    309\u001b[0m         stacklevel\u001b[38;5;241m=\u001b[39mstacklevel,\n\u001b[0;32m    310\u001b[0m     )\n\u001b[1;32m--> 311\u001b[0m \u001b[38;5;28;01mreturn\u001b[39;00m func(\u001b[38;5;241m*\u001b[39margs, \u001b[38;5;241m*\u001b[39m\u001b[38;5;241m*\u001b[39mkwargs)\n",
      "File \u001b[1;32m~\\data is good\\lib\\site-packages\\pandas\\core\\frame.py:4954\u001b[0m, in \u001b[0;36mDataFrame.drop\u001b[1;34m(self, labels, axis, index, columns, level, inplace, errors)\u001b[0m\n\u001b[0;32m   4806\u001b[0m \u001b[38;5;129m@deprecate_nonkeyword_arguments\u001b[39m(version\u001b[38;5;241m=\u001b[39m\u001b[38;5;28;01mNone\u001b[39;00m, allowed_args\u001b[38;5;241m=\u001b[39m[\u001b[38;5;124m\"\u001b[39m\u001b[38;5;124mself\u001b[39m\u001b[38;5;124m\"\u001b[39m, \u001b[38;5;124m\"\u001b[39m\u001b[38;5;124mlabels\u001b[39m\u001b[38;5;124m\"\u001b[39m])\n\u001b[0;32m   4807\u001b[0m \u001b[38;5;28;01mdef\u001b[39;00m \u001b[38;5;21mdrop\u001b[39m(\n\u001b[0;32m   4808\u001b[0m     \u001b[38;5;28mself\u001b[39m,\n\u001b[1;32m   (...)\u001b[0m\n\u001b[0;32m   4815\u001b[0m     errors: \u001b[38;5;28mstr\u001b[39m \u001b[38;5;241m=\u001b[39m \u001b[38;5;124m\"\u001b[39m\u001b[38;5;124mraise\u001b[39m\u001b[38;5;124m\"\u001b[39m,\n\u001b[0;32m   4816\u001b[0m ):\n\u001b[0;32m   4817\u001b[0m     \u001b[38;5;124;03m\"\"\"\u001b[39;00m\n\u001b[0;32m   4818\u001b[0m \u001b[38;5;124;03m    Drop specified labels from rows or columns.\u001b[39;00m\n\u001b[0;32m   4819\u001b[0m \n\u001b[1;32m   (...)\u001b[0m\n\u001b[0;32m   4952\u001b[0m \u001b[38;5;124;03m            weight  1.0     0.8\u001b[39;00m\n\u001b[0;32m   4953\u001b[0m \u001b[38;5;124;03m    \"\"\"\u001b[39;00m\n\u001b[1;32m-> 4954\u001b[0m     \u001b[38;5;28;01mreturn\u001b[39;00m \u001b[38;5;28;43msuper\u001b[39;49m\u001b[43m(\u001b[49m\u001b[43m)\u001b[49m\u001b[38;5;241;43m.\u001b[39;49m\u001b[43mdrop\u001b[49m\u001b[43m(\u001b[49m\n\u001b[0;32m   4955\u001b[0m \u001b[43m        \u001b[49m\u001b[43mlabels\u001b[49m\u001b[38;5;241;43m=\u001b[39;49m\u001b[43mlabels\u001b[49m\u001b[43m,\u001b[49m\n\u001b[0;32m   4956\u001b[0m \u001b[43m        \u001b[49m\u001b[43maxis\u001b[49m\u001b[38;5;241;43m=\u001b[39;49m\u001b[43maxis\u001b[49m\u001b[43m,\u001b[49m\n\u001b[0;32m   4957\u001b[0m \u001b[43m        \u001b[49m\u001b[43mindex\u001b[49m\u001b[38;5;241;43m=\u001b[39;49m\u001b[43mindex\u001b[49m\u001b[43m,\u001b[49m\n\u001b[0;32m   4958\u001b[0m \u001b[43m        \u001b[49m\u001b[43mcolumns\u001b[49m\u001b[38;5;241;43m=\u001b[39;49m\u001b[43mcolumns\u001b[49m\u001b[43m,\u001b[49m\n\u001b[0;32m   4959\u001b[0m \u001b[43m        \u001b[49m\u001b[43mlevel\u001b[49m\u001b[38;5;241;43m=\u001b[39;49m\u001b[43mlevel\u001b[49m\u001b[43m,\u001b[49m\n\u001b[0;32m   4960\u001b[0m \u001b[43m        \u001b[49m\u001b[43minplace\u001b[49m\u001b[38;5;241;43m=\u001b[39;49m\u001b[43minplace\u001b[49m\u001b[43m,\u001b[49m\n\u001b[0;32m   4961\u001b[0m \u001b[43m        \u001b[49m\u001b[43merrors\u001b[49m\u001b[38;5;241;43m=\u001b[39;49m\u001b[43merrors\u001b[49m\u001b[43m,\u001b[49m\n\u001b[0;32m   4962\u001b[0m \u001b[43m    \u001b[49m\u001b[43m)\u001b[49m\n",
      "File \u001b[1;32m~\\data is good\\lib\\site-packages\\pandas\\core\\generic.py:4267\u001b[0m, in \u001b[0;36mNDFrame.drop\u001b[1;34m(self, labels, axis, index, columns, level, inplace, errors)\u001b[0m\n\u001b[0;32m   4265\u001b[0m \u001b[38;5;28;01mfor\u001b[39;00m axis, labels \u001b[38;5;129;01min\u001b[39;00m axes\u001b[38;5;241m.\u001b[39mitems():\n\u001b[0;32m   4266\u001b[0m     \u001b[38;5;28;01mif\u001b[39;00m labels \u001b[38;5;129;01mis\u001b[39;00m \u001b[38;5;129;01mnot\u001b[39;00m \u001b[38;5;28;01mNone\u001b[39;00m:\n\u001b[1;32m-> 4267\u001b[0m         obj \u001b[38;5;241m=\u001b[39m \u001b[43mobj\u001b[49m\u001b[38;5;241;43m.\u001b[39;49m\u001b[43m_drop_axis\u001b[49m\u001b[43m(\u001b[49m\u001b[43mlabels\u001b[49m\u001b[43m,\u001b[49m\u001b[43m \u001b[49m\u001b[43maxis\u001b[49m\u001b[43m,\u001b[49m\u001b[43m \u001b[49m\u001b[43mlevel\u001b[49m\u001b[38;5;241;43m=\u001b[39;49m\u001b[43mlevel\u001b[49m\u001b[43m,\u001b[49m\u001b[43m \u001b[49m\u001b[43merrors\u001b[49m\u001b[38;5;241;43m=\u001b[39;49m\u001b[43merrors\u001b[49m\u001b[43m)\u001b[49m\n\u001b[0;32m   4269\u001b[0m \u001b[38;5;28;01mif\u001b[39;00m inplace:\n\u001b[0;32m   4270\u001b[0m     \u001b[38;5;28mself\u001b[39m\u001b[38;5;241m.\u001b[39m_update_inplace(obj)\n",
      "File \u001b[1;32m~\\data is good\\lib\\site-packages\\pandas\\core\\generic.py:4311\u001b[0m, in \u001b[0;36mNDFrame._drop_axis\u001b[1;34m(self, labels, axis, level, errors, consolidate, only_slice)\u001b[0m\n\u001b[0;32m   4309\u001b[0m         new_axis \u001b[38;5;241m=\u001b[39m axis\u001b[38;5;241m.\u001b[39mdrop(labels, level\u001b[38;5;241m=\u001b[39mlevel, errors\u001b[38;5;241m=\u001b[39merrors)\n\u001b[0;32m   4310\u001b[0m     \u001b[38;5;28;01melse\u001b[39;00m:\n\u001b[1;32m-> 4311\u001b[0m         new_axis \u001b[38;5;241m=\u001b[39m \u001b[43maxis\u001b[49m\u001b[38;5;241;43m.\u001b[39;49m\u001b[43mdrop\u001b[49m\u001b[43m(\u001b[49m\u001b[43mlabels\u001b[49m\u001b[43m,\u001b[49m\u001b[43m \u001b[49m\u001b[43merrors\u001b[49m\u001b[38;5;241;43m=\u001b[39;49m\u001b[43merrors\u001b[49m\u001b[43m)\u001b[49m\n\u001b[0;32m   4312\u001b[0m     indexer \u001b[38;5;241m=\u001b[39m axis\u001b[38;5;241m.\u001b[39mget_indexer(new_axis)\n\u001b[0;32m   4314\u001b[0m \u001b[38;5;66;03m# Case for non-unique axis\u001b[39;00m\n\u001b[0;32m   4315\u001b[0m \u001b[38;5;28;01melse\u001b[39;00m:\n",
      "File \u001b[1;32m~\\data is good\\lib\\site-packages\\pandas\\core\\indexes\\base.py:6644\u001b[0m, in \u001b[0;36mIndex.drop\u001b[1;34m(self, labels, errors)\u001b[0m\n\u001b[0;32m   6642\u001b[0m \u001b[38;5;28;01mif\u001b[39;00m mask\u001b[38;5;241m.\u001b[39many():\n\u001b[0;32m   6643\u001b[0m     \u001b[38;5;28;01mif\u001b[39;00m errors \u001b[38;5;241m!=\u001b[39m \u001b[38;5;124m\"\u001b[39m\u001b[38;5;124mignore\u001b[39m\u001b[38;5;124m\"\u001b[39m:\n\u001b[1;32m-> 6644\u001b[0m         \u001b[38;5;28;01mraise\u001b[39;00m \u001b[38;5;167;01mKeyError\u001b[39;00m(\u001b[38;5;124mf\u001b[39m\u001b[38;5;124m\"\u001b[39m\u001b[38;5;132;01m{\u001b[39;00m\u001b[38;5;28mlist\u001b[39m(labels[mask])\u001b[38;5;132;01m}\u001b[39;00m\u001b[38;5;124m not found in axis\u001b[39m\u001b[38;5;124m\"\u001b[39m)\n\u001b[0;32m   6645\u001b[0m     indexer \u001b[38;5;241m=\u001b[39m indexer[\u001b[38;5;241m~\u001b[39mmask]\n\u001b[0;32m   6646\u001b[0m \u001b[38;5;28;01mreturn\u001b[39;00m \u001b[38;5;28mself\u001b[39m\u001b[38;5;241m.\u001b[39mdelete(indexer)\n",
      "\u001b[1;31mKeyError\u001b[0m: \"['Reservation Status_Canceled,Reservation Status_Check_Out', 'Reservation Status_No-Show'] not found in axis\""
     ]
    }
   ],
   "source": [
    "df2= df1.drop(columns = ['Reservation Status_Canceled,Reservation Status_Check_Out','Reservation Status_No-Show'], axis = 0)"
   ]
  },
  {
   "cell_type": "code",
   "execution_count": 48,
   "id": "09f195da",
   "metadata": {},
   "outputs": [
    {
     "ename": "NameError",
     "evalue": "name 'df2' is not defined",
     "output_type": "error",
     "traceback": [
      "\u001b[1;31m---------------------------------------------------------------------------\u001b[0m",
      "\u001b[1;31mNameError\u001b[0m                                 Traceback (most recent call last)",
      "Input \u001b[1;32mIn [48]\u001b[0m, in \u001b[0;36m<cell line: 1>\u001b[1;34m()\u001b[0m\n\u001b[1;32m----> 1\u001b[0m y\u001b[38;5;241m=\u001b[39m\u001b[43mdf2\u001b[49m[\u001b[38;5;124m'\u001b[39m\u001b[38;5;124mCancellation\u001b[39m\u001b[38;5;124m'\u001b[39m]\n\u001b[0;32m      2\u001b[0m x\u001b[38;5;241m=\u001b[39mdf2\u001b[38;5;241m.\u001b[39mdrop([\u001b[38;5;124m'\u001b[39m\u001b[38;5;124mCancellation\u001b[39m\u001b[38;5;124m'\u001b[39m],axiz\u001b[38;5;241m=\u001b[39m\u001b[38;5;241m1\u001b[39m)\n\u001b[0;32m      4\u001b[0m x_test,x_train,y_test,y_train\u001b[38;5;241m=\u001b[39mtrain_test_split(x,y,teat_size\u001b[38;5;241m=\u001b[39m\u001b[38;5;241m0.30\u001b[39m,random_state\u001b[38;5;241m=\u001b[39m\u001b[38;5;241m42\u001b[39m)\n",
      "\u001b[1;31mNameError\u001b[0m: name 'df2' is not defined"
     ]
    }
   ],
   "source": [
    "y=df2['Cancellation']\n",
    "x=df2.drop(['Cancellation'],axiz=1)\n",
    "\n",
    "x_test,x_train,y_test,y_train=train_test_split(x,y,teat_size=0.30,random_state=42)"
   ]
  },
  {
   "cell_type": "code",
   "execution_count": null,
   "id": "8787b135",
   "metadata": {},
   "outputs": [],
   "source": [
    "def model(algorithm, x_train, x_test, y_train, y_test):\n",
    "    alg = algorithm\n",
    "    alg_model = alg.fit(x_train, y_train)\n",
    "    global y_prob, y_pred\n",
    "    y_prob = alg.predict_proba(x_test)[:,1]\n",
    "    y_pred = alg_model.predict(x_test)\n",
    "\n",
    "    print('Accuracy Score: {}\\n\\nConfusion Matrix:\\n {}'\n",
    "      .format(accuracy_score(y_test,y_pred), confusion_matrix(y_test,y_pred)))\n",
    "    \n",
    "    \n",
    "    def ROC(y_test, y_prob):\n",
    "    \n",
    "    false_positive_rate, true_positive_rate, threshold = roc_curve(y_test, y_prob)\n",
    "    roc_auc = auc(false_positive_rate, true_positive_rate)\n",
    "    \n",
    "    plt.figure(figsize = (10,10))\n",
    "    plt.title('Receiver Operating Characteristic')\n",
    "    plt.plot(false_positive_rate, true_positive_rate, color = 'red', label = 'AUC = %0.2f' % roc_auc)\n",
    "    plt.legend(loc = 'lower right')\n",
    "    plt.plot([0, 1], [0, 1], linestyle = '--')\n",
    "    plt.axis('tight')\n",
    "    plt.ylabel('True Positive Rate')\n",
    "    plt.xlabel('False Positive Rate')"
   ]
  },
  {
   "cell_type": "markdown",
   "id": "a01f0d2d",
   "metadata": {},
   "source": [
    "# Model and ROC Curve Comparison"
   ]
  },
  {
   "cell_type": "markdown",
   "id": "f839228d",
   "metadata": {},
   "source": [
    "Logistic Regression Model"
   ]
  },
  {
   "cell_type": "code",
   "execution_count": null,
   "id": "a4243d18",
   "metadata": {},
   "outputs": [],
   "source": [
    "print('Model: Logistic Regression\\n')\n",
    "model(LogisticRegression(solver = \"liblinear\"), x_train, x_test, y_train, y_test)"
   ]
  },
  {
   "cell_type": "code",
   "execution_count": null,
   "id": "5351790b",
   "metadata": {},
   "outputs": [],
   "source": [
    "LogR = LogisticRegression(solver = \"liblinear\")\n",
    "cv_scores = cross_val_score(LogR, x, y, cv = 8, scoring = 'accuracy')\n",
    "print('Mean Score of CV: ', cv_scores.mean())"
   ]
  },
  {
   "cell_type": "code",
   "execution_count": null,
   "id": "c14c9cfd",
   "metadata": {},
   "outputs": [],
   "source": [
    "ROC(y_test, y_prob)"
   ]
  },
  {
   "cell_type": "markdown",
   "id": "5e3c8f94",
   "metadata": {},
   "source": [
    "# Gaussian Naive Bayes Model"
   ]
  },
  {
   "cell_type": "code",
   "execution_count": null,
   "id": "d454a6c7",
   "metadata": {},
   "outputs": [],
   "source": [
    "print('Model: Gaussian Naive Bayes\\n')\n",
    "model(GaussianNB(), x_train, x_test, y_train, y_test)"
   ]
  },
  {
   "cell_type": "code",
   "execution_count": null,
   "id": "6f2668d1",
   "metadata": {},
   "outputs": [],
   "source": [
    "NB = GaussianNB()\n",
    "cv_scores = cross_val_score(NB, x, y, cv = 8, scoring = 'accuracy')\n",
    "print('Mean Score of CV: ', cv_scores.mean())"
   ]
  },
  {
   "cell_type": "code",
   "execution_count": null,
   "id": "0d029745",
   "metadata": {},
   "outputs": [],
   "source": [
    "ROC(y_test, y_prob)"
   ]
  },
  {
   "cell_type": "markdown",
   "id": "259b0313",
   "metadata": {},
   "source": [
    "# Support Vector Classification Model"
   ]
  },
  {
   "cell_type": "code",
   "execution_count": null,
   "id": "b2764b2b",
   "metadata": {},
   "outputs": [],
   "source": [
    "#I excluded probability in the function for SVC, also I could not use other kernel methods because it takes really long and I don't think SVC as a good model for this dateset.\n",
    "\n",
    "print('Model: SVC\\n')\n",
    "\n",
    "def model1(algorithm, x_train, x_test, y_train, y_test):\n",
    "    alg = algorithm\n",
    "    alg_model = alg.fit(x_train, x_train)\n",
    "    global y_pred\n",
    "    y_pred = alg_model.predict(x_test)\n",
    "    \n",
    "    print('Accuracy Score: {}\\n\\nConfusion Matrix:\\n {}'\n",
    "      .format(accuracy_score(y_test,y_pred), confusion_matrix(y_test,y_pred)))\n",
    "    \n",
    "model1(SVC(kernel = 'linear'), x_train, x_test, y_train, y_test)"
   ]
  },
  {
   "cell_type": "markdown",
   "id": "169e9769",
   "metadata": {},
   "source": [
    "# Decision Tree Model (reservation_status excluded)"
   ]
  },
  {
   "cell_type": "code",
   "execution_count": null,
   "id": "519220dc",
   "metadata": {},
   "outputs": [],
   "source": [
    "print('Model: Decision Tree\\n')\n",
    "model(DecisionTreeClassifier(max_depth = 12), x_train, x_test, y_train, y_test)"
   ]
  },
  {
   "cell_type": "code",
   "execution_count": null,
   "id": "ff3667bc",
   "metadata": {},
   "outputs": [],
   "source": [
    "DTC = DecisionTreeClassifier(max_depth = 12)\n",
    "cv_scores = cross_val_score(DTC, x, y, cv = 8, scoring = 'accuracy')\n",
    "print('Mean Score of CV: ', cv_scores.mean())"
   ]
  },
  {
   "cell_type": "code",
   "execution_count": null,
   "id": "d8fc7861",
   "metadata": {},
   "outputs": [],
   "source": [
    "ROC(y_test, y_prob)"
   ]
  },
  {
   "cell_type": "markdown",
   "id": "fce5f960",
   "metadata": {},
   "source": [
    "# Random Forest"
   ]
  },
  {
   "cell_type": "code",
   "execution_count": null,
   "id": "3ca9aeff",
   "metadata": {},
   "outputs": [],
   "source": [
    "print('Model: Random Forest\\n')\n",
    "model(RandomForestClassifier(), x_train, x_test, y_train, y_test)"
   ]
  },
  {
   "cell_type": "code",
   "execution_count": null,
   "id": "9e99676e",
   "metadata": {},
   "outputs": [],
   "source": [
    "RFC = RandomForestClassifier()\n",
    "cv_scores = cross_val_score(RFC, x, y, cv = 8, scoring = 'accuracy')\n",
    "print('Mean Score of CV: ', cv_scores.mean())"
   ]
  },
  {
   "cell_type": "code",
   "execution_count": null,
   "id": "aa3b546f",
   "metadata": {},
   "outputs": [],
   "source": [
    "ROC(y_test, y_prob)"
   ]
  },
  {
   "cell_type": "markdown",
   "id": "aceda279",
   "metadata": {},
   "source": [
    "# Random Forest Model Tuning"
   ]
  },
  {
   "cell_type": "code",
   "execution_count": null,
   "id": "dd1988cd",
   "metadata": {},
   "outputs": [],
   "source": [
    "rf_parameters = {\"max_depth\": [10,13],\n",
    "                 \"n_estimators\": [10,100,500],\n",
    "                 \"min_samples_split\": [2,5]}"
   ]
  },
  {
   "cell_type": "code",
   "execution_count": null,
   "id": "d516752c",
   "metadata": {},
   "outputs": [],
   "source": [
    "rf_model = RandomForestClassifier()"
   ]
  },
  {
   "cell_type": "code",
   "execution_count": null,
   "id": "1f23b75c",
   "metadata": {},
   "outputs": [],
   "source": [
    "rf_cv_model = GridSearchCV(rf_model,\n",
    "                           rf_parameters,\n",
    "                           cv = 10,\n",
    "                           n_jobs = -1,\n",
    "                           verbose = 2)\n",
    "\n",
    "rf_cv_model.fit(x_train, y_train)"
   ]
  },
  {
   "cell_type": "code",
   "execution_count": null,
   "id": "a89905bb",
   "metadata": {},
   "outputs": [],
   "source": [
    "print('Best parameters: ' + str(rf_cv_model.best_params_))"
   ]
  },
  {
   "cell_type": "code",
   "execution_count": null,
   "id": "4d69b14e",
   "metadata": {},
   "outputs": [],
   "source": [
    "rf_tuned = RandomForestClassifier(max_depth = 13,\n",
    "                                  min_samples_split = 2,\n",
    "                                  n_estimators = 500)\n",
    "\n",
    "print('Model: Random Forest Tuned\\n')\n",
    "model(rf_tuned, x_train, x_test, y_train, y_test)"
   ]
  },
  {
   "cell_type": "markdown",
   "id": "f73c65a4",
   "metadata": {},
   "source": [
    "# XGBoost Model"
   ]
  },
  {
   "cell_type": "code",
   "execution_count": null,
   "id": "5fcaf586",
   "metadata": {},
   "outputs": [],
   "source": [
    "print('Model: XGBoost\\n')\n",
    "model(XGBClassifier(), x_train, x_test, y_train, y_test)"
   ]
  },
  {
   "cell_type": "code",
   "execution_count": null,
   "id": "885cf2c2",
   "metadata": {},
   "outputs": [],
   "source": [
    "XGB = XGBClassifier()\n",
    "cv_scores = cross_val_score(XGB, x, y, cv = 8, scoring = 'accuracy')\n",
    "print('Mean Score of CV: ', cv_scores.mean())"
   ]
  },
  {
   "cell_type": "code",
   "execution_count": null,
   "id": "9fc588d5",
   "metadata": {},
   "outputs": [],
   "source": [
    "ROC(y_test, y_prob)"
   ]
  },
  {
   "cell_type": "markdown",
   "id": "4c8f93f9",
   "metadata": {},
   "source": [
    "# Neural Network Model"
   ]
  },
  {
   "cell_type": "code",
   "execution_count": null,
   "id": "4d3a42eb",
   "metadata": {},
   "outputs": [],
   "source": [
    "scaler = StandardScaler()\n",
    "scaler.fit(x_train)\n",
    "x_train_scaled = scaler.transform(x_train)\n",
    "x_test_scaled = scaler.transform(x_test)"
   ]
  },
  {
   "cell_type": "code",
   "execution_count": null,
   "id": "485dad25",
   "metadata": {},
   "outputs": [],
   "source": [
    "rint('Model: Neural Network\\n')\n",
    "model(MLPClassifier(), x_train_scaled, x_test_scaled, y_train, y_test)"
   ]
  },
  {
   "cell_type": "code",
   "execution_count": null,
   "id": "ebbf06e2",
   "metadata": {},
   "outputs": [],
   "source": [
    "ROC(y_test, y_prob)"
   ]
  },
  {
   "cell_type": "markdown",
   "id": "8a3ae5f1",
   "metadata": {},
   "source": [
    "# Neural Network Model Tuning"
   ]
  },
  {
   "cell_type": "code",
   "execution_count": null,
   "id": "8f70007a",
   "metadata": {},
   "outputs": [],
   "source": [
    "mlpc_parameters = {\"alpha\": [1, 0.1, 0.01, 0.001],\n",
    "                   \"hidden_layer_sizes\": [(50,50,50),\n",
    "                                          (100,100)],\n",
    "                   \"solver\": [\"adam\", \"sgd\"],\n",
    "                   \"activation\": [\"logistic\", \"relu\"]}"
   ]
  },
  {
   "cell_type": "code",
   "execution_count": null,
   "id": "8cc612ed",
   "metadata": {},
   "outputs": [],
   "source": [
    "mlpc = MLPClassifier()\n",
    "mlpc_cv_model = GridSearchCV(mlpc, mlpc_parameters,\n",
    "                             cv = 10,\n",
    "                             n_jobs = -1,\n",
    "                             verbose = 2)\n",
    "\n",
    "mlpc_cv_model.fit(x_train_scaled, y_train)"
   ]
  },
  {
   "cell_type": "code",
   "execution_count": null,
   "id": "6d91a104",
   "metadata": {},
   "outputs": [],
   "source": [
    "print('Best parameters: ' + str(mlpc_cv_model.best_params_))"
   ]
  },
  {
   "cell_type": "code",
   "execution_count": null,
   "id": "c12b913c",
   "metadata": {},
   "outputs": [],
   "source": [
    "lpc_tuned = MLPClassifier(activation = 'relu',\n",
    "                           alpha = 0.1,\n",
    "                           hidden_layer_sizes = (100,100),\n",
    "                           solver = 'adam')"
   ]
  },
  {
   "cell_type": "code",
   "execution_count": null,
   "id": "54b36a43",
   "metadata": {},
   "outputs": [],
   "source": [
    "rint('Model: Neural Network Tuned\\n')\n",
    "model(mlpc_tuned, x_train_scaled, x_test_scaled, y_train, y_test)"
   ]
  },
  {
   "cell_type": "code",
   "execution_count": null,
   "id": "aab6b9f9",
   "metadata": {},
   "outputs": [],
   "source": [
    "ROC(y_test, y_prob)"
   ]
  },
  {
   "cell_type": "markdown",
   "id": "ff3a44ba",
   "metadata": {},
   "source": [
    "# Conclusion"
   ]
  },
  {
   "cell_type": "markdown",
   "id": "1faee0fb",
   "metadata": {},
   "source": [
    "Feature Importances"
   ]
  },
  {
   "cell_type": "code",
   "execution_count": null,
   "id": "f8cabc9d",
   "metadata": {},
   "outputs": [],
   "source": [
    "randomf = RandomForestClassifier()\n",
    "rf_model1 = randomf.fit(x_train, y_train)\n",
    "\n",
    "pd.DataFrame(data = rf_model1.feature_importances_*100,\n",
    "                   columns = [\"Importances\"],\n",
    "                   index = x_train.columns).sort_values(\"Importances\", ascending = False)[:15].plot(kind = \"barh\", color = \"r\")\n",
    "\n",
    "plt.xlabel(\"Feature Importances (%)\")"
   ]
  },
  {
   "cell_type": "markdown",
   "id": "278c1119",
   "metadata": {},
   "source": [
    "# Summary Table of the Models"
   ]
  },
  {
   "cell_type": "code",
   "execution_count": null,
   "id": "5eee13f7",
   "metadata": {},
   "outputs": [],
   "source": [
    "table = pd.DataFrame({\"Model\": [\"Decision Tree (reservation status included)\", \"Logistic Regression\",\n",
    "                                \"Naive Bayes\", \"Support Vector\", \"Decision Tree\", \"Random Forest\",\n",
    "                                \"Random Forest Tuned\", \"XGBoost\", \"Neural Network\", \"Neural Network Tuned\"],\n",
    "                     \"Accuracy Scores\": [\"1\", \"0.804\", \"0.582\", \"0.794\", \"0.846\",\n",
    "                                         \"0.883\", \"0.851\", \"0.869\", \"0.848\", \"0.859\"],\n",
    "                     \"ROC | Auc\": [\"1\", \"0.88\", \"0.78\", \"0\",\n",
    "                                   \"0.92\", \"0.95\", \"0\", \"0.94\",\n",
    "                                   \"0.93\", \"0.94\"]})\n",
    "\n",
    "\n",
    "table[\"Model\"] = table[\"Model\"].astype(\"category\")\n",
    "table[\"Accuracy Scores\"] = table[\"Accuracy Scores\"].astype(\"float32\")\n",
    "table[\"ROC | Auc\"] = table[\"ROC | Auc\"].astype(\"float32\")\n",
    "\n",
    "pd.pivot_table(table, index = [\"Model\"]).sort_values(by = 'Accuracy Scores', ascending=False)"
   ]
  },
  {
   "cell_type": "code",
   "execution_count": null,
   "id": "95d62e8c",
   "metadata": {},
   "outputs": [],
   "source": []
  },
  {
   "cell_type": "code",
   "execution_count": null,
   "id": "11a9c2bd",
   "metadata": {},
   "outputs": [],
   "source": []
  }
 ],
 "metadata": {
  "kernelspec": {
   "display_name": "Python 3 (ipykernel)",
   "language": "python",
   "name": "python3"
  },
  "language_info": {
   "codemirror_mode": {
    "name": "ipython",
    "version": 3
   },
   "file_extension": ".py",
   "mimetype": "text/x-python",
   "name": "python",
   "nbconvert_exporter": "python",
   "pygments_lexer": "ipython3",
   "version": "3.9.13"
  }
 },
 "nbformat": 4,
 "nbformat_minor": 5
}
